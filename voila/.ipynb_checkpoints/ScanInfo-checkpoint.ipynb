{
 "cells": [
  {
   "cell_type": "code",
   "execution_count": 1,
   "id": "d1901e73-0713-4e86-96ca-24a4bb5f251d",
   "metadata": {},
   "outputs": [],
   "source": [
    "import h5py\n",
    "import pandas as pd\n",
    "import numpy as np\n",
    "import os\n",
    "pd.set_option('display.max_row',10000)"
   ]
  },
  {
   "cell_type": "code",
   "execution_count": 2,
   "id": "3f5024ae",
   "metadata": {},
   "outputs": [],
   "source": [
    "def generate_list(numberString):\n",
    "\n",
    "    splits = numberString.split(\",\")\n",
    "    lists = []\n",
    "\n",
    "    for sp in splits:\n",
    "        isRange = sp.find(\"-\") != -1\n",
    "\n",
    "        if isRange:\n",
    "            spSplits = sp.split(\"-\")\n",
    "            if len(spSplits) > 2:\n",
    "                raise AttributeError(\n",
    "                    'Sequence \"{}\" not understood - too many dashes.'.format(sp)\n",
    "                )\n",
    "            startNumber = int(spSplits[0])\n",
    "            endNumber = int(spSplits[1])\n",
    "            if startNumber > endNumber:\n",
    "                numbers = np.arange(startNumber, endNumber - 1, -1)\n",
    "            else:\n",
    "                numbers = np.arange(startNumber, endNumber + 1)\n",
    "        else:\n",
    "            numbers = [int(sp)]\n",
    "\n",
    "        lists.append([x for x in numbers])\n",
    "        \n",
    "    return list(np.concatenate(lists))"
   ]
  },
  {
   "cell_type": "code",
   "execution_count": 3,
   "id": "e87fef44-5e76-415e-adf1-045b29831437",
   "metadata": {},
   "outputs": [],
   "source": [
    "useful_strings = [\n",
    "    \"PhotonEnergy\",\n",
    "    \"PolarMode\",\n",
    "    \"SampleTemp\",\n",
    "    \"SampleXs\",\n",
    "    \"SampleYs\",\n",
    "    \"SampleZ\",\n",
    "    \"SampleTheta\",\n",
    "    \"SamplePhi\",\n",
    "    \"SampleTilt\",\n",
    "    \"AcquireTime\",\n",
    "    \"ExposureSplit\",\n",
    "    \"ExitSlit\",\n",
    "    \"BeamCurrent\",\n",
    "    ]\n",
    "\n",
    "info_dict = {}"
   ]
  },
  {
   "cell_type": "code",
   "execution_count": 4,
   "id": "8af08942-175b-43e0-95bc-2ba2f956e8e8",
   "metadata": {},
   "outputs": [],
   "source": [
    "def polar_trans(PolarMode):                           \n",
    "    if PolarMode == 0:\n",
    "        Polarization = \"LH\"\n",
    "    elif PolarMode == 1:\n",
    "        Polarization = \"LV\"\n",
    "    elif PolarMode == 2:\n",
    "        Polarization = \"C+\"\n",
    "    else:\n",
    "        Polarization = \"C-\"\n",
    "    return Polarization\n",
    "\n",
    "def load_meta(file_name,path):\n",
    "    global useful_strings  \n",
    "    f = h5py.File(f\"{path}/{file_name}_d1.h5\",'r')\n",
    "    meta_data = {}\n",
    "    NDAttributes = f['entry']['instrument']['NDAttributes']\n",
    "    meta_data['FileName'] = file_name\n",
    "    for key in useful_strings:\n",
    "        meta_data[key] = round(np.mean(NDAttributes[key]),3)   \n",
    "    meta_data[\"PolarMode\"] = polar_trans(meta_data[\"PolarMode\"])      \n",
    "    f.close()\n",
    "    return meta_data"
   ]
  },
  {
   "cell_type": "code",
   "execution_count": 5,
   "id": "749de5fa-f8f1-405b-82b9-ea4fc682813e",
   "metadata": {},
   "outputs": [],
   "source": [
    "def load_info(runNo,path,base):\n",
    "    global info_dict\n",
    "    \n",
    "    if runNo not in info_dict:\n",
    "        file_name = f\"{base}_{runNo:04d}\"\n",
    "        meta_data = load_meta(file_name,path)\n",
    "        info_dict[runNo] = meta_data\n",
    "    else:\n",
    "        meta_data = info_dict[runNo]\n",
    "            \n",
    "    return meta_data\n",
    "\n",
    "\n",
    "def scan_info(run_list,path,base,useful_strings):\n",
    "    RIXSinfo = pd.DataFrame(columns = ['FileName'] + useful_strings)\n",
    "    for runNo in run_list:\n",
    "        try:\n",
    "            meta_data = pd.DataFrame([load_info(runNo,path,base)]) \n",
    "            RIXSinfo = pd.concat([RIXSinfo,meta_data],ignore_index = True)\n",
    "        except:\n",
    "            break\n",
    "    RIXSinfo.sort_values(\"FileName\",inplace = True,ignore_index = True)\n",
    "    return RIXSinfo"
   ]
  },
  {
   "cell_type": "code",
   "execution_count": 6,
   "id": "041641a8",
   "metadata": {
    "scrolled": true
   },
   "outputs": [],
   "source": [
    "import ipywidgets as widgets\n",
    "\n",
    "path = widgets.Text(\n",
    "    value='',\n",
    "    placeholder='Z:/RIXS/Asmara/RIXS',\n",
    "    description='Path:',\n",
    "    disabled=False\n",
    ")\n",
    "\n",
    "base = widgets.Text(\n",
    "    value='',\n",
    "    placeholder='O',\n",
    "    description='Base:',\n",
    "    disabled=False\n",
    ")\n",
    "\n",
    "runNo = widgets.Text(\n",
    "    value='',\n",
    "    placeholder='200,202-203,205-300',\n",
    "    description='Run No:',\n",
    "    disabled=False\n",
    ")\n",
    "\n",
    "scan = widgets.Button(description=\"Scan\")\n",
    "output = widgets.Output()\n"
   ]
  },
  {
   "cell_type": "code",
   "execution_count": 7,
   "id": "efcdb5d8-bbec-4563-a112-311c712296a7",
   "metadata": {},
   "outputs": [],
   "source": [
    "def do_scan():\n",
    "    global useful_strings\n",
    "    try:\n",
    "        lists = generate_list(runNo.value)\n",
    "        RIXSinfo = scan_info(lists,path.value,base.value,useful_strings)\n",
    "    except:\n",
    "        pass\n",
    "    return RIXSinfo\n",
    "\n",
    "\n",
    "def on_button_clicked(b):\n",
    "    output.clear_output()\n",
    "\n",
    "    with output:\n",
    "        RIXSinfo = do_scan()\n",
    "        display(RIXSinfo)\n",
    "\n",
    "scan.on_click(on_button_clicked)"
   ]
  },
  {
   "cell_type": "code",
   "execution_count": 8,
   "id": "4e2e552f",
   "metadata": {},
   "outputs": [
    {
     "data": {
      "application/vnd.jupyter.widget-view+json": {
       "model_id": "a4860faf92d540c0976ee5b56cf06ca4",
       "version_major": 2,
       "version_minor": 0
      },
      "text/plain": [
       "Text(value='', description='Path:', placeholder='Z:/RIXS/Asmara/RIXS')"
      ]
     },
     "metadata": {},
     "output_type": "display_data"
    },
    {
     "data": {
      "application/vnd.jupyter.widget-view+json": {
       "model_id": "54c63fbeee8d438d932778c8362a07ec",
       "version_major": 2,
       "version_minor": 0
      },
      "text/plain": [
       "Text(value='', description='Base:', placeholder='O')"
      ]
     },
     "metadata": {},
     "output_type": "display_data"
    },
    {
     "data": {
      "application/vnd.jupyter.widget-view+json": {
       "model_id": "7e1582badbe848c5a4a471697441be00",
       "version_major": 2,
       "version_minor": 0
      },
      "text/plain": [
       "Text(value='', description='Run No:', placeholder='200,201-203')"
      ]
     },
     "metadata": {},
     "output_type": "display_data"
    },
    {
     "data": {
      "application/vnd.jupyter.widget-view+json": {
       "model_id": "951c7a13ca504a74a4d4b988d4c454ce",
       "version_major": 2,
       "version_minor": 0
      },
      "text/plain": [
       "Button(description='Scan', style=ButtonStyle())"
      ]
     },
     "metadata": {},
     "output_type": "display_data"
    },
    {
     "data": {
      "application/vnd.jupyter.widget-view+json": {
       "model_id": "ce5a65c1bfc54236b551e5a9cb6753e5",
       "version_major": 2,
       "version_minor": 0
      },
      "text/plain": [
       "Output()"
      ]
     },
     "metadata": {},
     "output_type": "display_data"
    }
   ],
   "source": [
    "display(path, base, runNo, scan, output)"
   ]
  },
  {
   "cell_type": "code",
   "execution_count": null,
   "id": "2f98f2c0",
   "metadata": {},
   "outputs": [],
   "source": []
  }
 ],
 "metadata": {
  "kernelspec": {
   "display_name": "Python 3 (ipykernel)",
   "language": "python",
   "name": "python3"
  },
  "language_info": {
   "codemirror_mode": {
    "name": "ipython",
    "version": 3
   },
   "file_extension": ".py",
   "mimetype": "text/x-python",
   "name": "python",
   "nbconvert_exporter": "python",
   "pygments_lexer": "ipython3",
   "version": "3.9.5"
  },
  "vscode": {
   "interpreter": {
    "hash": "11938c6bc6919ae2720b4d5011047913343b08a43b18698fd82dedb0d4417594"
   }
  }
 },
 "nbformat": 4,
 "nbformat_minor": 5
}
