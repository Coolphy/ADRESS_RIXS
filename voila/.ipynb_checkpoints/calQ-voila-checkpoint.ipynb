{
 "cells": [
  {
   "cell_type": "code",
   "execution_count": 1,
   "metadata": {},
   "outputs": [],
   "source": [
    "import math\n",
    "import numpy as np\n",
    "\n",
    "def EtoQ(energy):\n",
    "    qvalue = energy / 1973\n",
    "    return qvalue\n",
    "\n",
    "def qTrans(energy, twoTheta):\n",
    "    qTrans = EtoQ(energy) * math.sin(twoTheta / 180 * math.pi / 2) * 2\n",
    "    return qTrans\n",
    "\n",
    "def adressTheta(theta, twoTheta):\n",
    "    alpha = twoTheta - theta\n",
    "    return alpha\n",
    "\n",
    "def calVolume(a, b, c, alpha, beta, gamma):\n",
    "\n",
    "    Volume = (\n",
    "        a\n",
    "        * b\n",
    "        * c\n",
    "        * math.sqrt(\n",
    "            1\n",
    "            - math.cos(alpha / 180 * math.pi) * math.cos(alpha / 180 * math.pi)\n",
    "            - math.cos(beta / 180 * math.pi) * math.cos(beta / 180 * math.pi)\n",
    "            - math.cos(gamma / 180 * math.pi) * math.cos(gamma / 180 * math.pi)\n",
    "            + 2\n",
    "            * math.cos(alpha / 180 * math.pi)\n",
    "            * math.cos(beta / 180 * math.pi)\n",
    "            * math.cos(gamma / 180 * math.pi)\n",
    "        )\n",
    "    )\n",
    "    return Volume\n",
    "\n",
    "def invertedframe(latticeConstant):\n",
    "    [a, b, c, alpha, beta, gamma] = latticeConstant\n",
    "    Vol = calVolume(a, b, c, alpha, beta, gamma)\n",
    "    ar = 2 * math.pi * b * c * math.sin(alpha / 180 * math.pi) / Vol\n",
    "    br = 2 * math.pi * c * a * math.sin(beta / 180 * math.pi) / Vol\n",
    "    cr = 2 * math.pi * a * b * math.sin(gamma / 180 * math.pi) / Vol\n",
    "\n",
    "    return ar, br, cr\n",
    "\n",
    "def thToq(energy, twoTheta, alpha):\n",
    "    qParallel = qTrans(energy, twoTheta) * math.cos(\n",
    "        (alpha + (180 - twoTheta) / 2) / 180 * math.pi\n",
    "    )\n",
    "    qPerpendicular = qTrans(energy, twoTheta) * math.sin(\n",
    "        (alpha + (180 - twoTheta) / 2) / 180 * math.pi\n",
    "    )\n",
    "    return qParallel, qPerpendicular\n",
    "\n",
    "def qInToth(energy, twoTheta, qIn):\n",
    "\n",
    "    alpha = (\n",
    "        math.acos(qIn / qTrans(energy, twoTheta)) / math.pi * 180 - (180 - twoTheta) / 2\n",
    "    )\n",
    "    return alpha\n",
    "\n",
    "def vectorSum(a, b, gamma):\n",
    "    sum = math.sqrt(a * a + b * b - 2 * a * b * math.cos((180 - gamma) / 180 * math.pi))\n",
    "    return sum"
   ]
  },
  {
   "cell_type": "code",
   "execution_count": 2,
   "metadata": {},
   "outputs": [],
   "source": [
    "import ipywidgets as widgets\n",
    "from IPython.display import display"
   ]
  },
  {
   "cell_type": "markdown",
   "metadata": {},
   "source": [
    "## Instrument setup"
   ]
  },
  {
   "cell_type": "code",
   "execution_count": 3,
   "metadata": {},
   "outputs": [
    {
     "data": {
      "application/vnd.jupyter.widget-view+json": {
       "model_id": "b433b1168f8c48a0b727a70f1f3cee9b",
       "version_major": 2,
       "version_minor": 0
      },
      "text/plain": [
       "Dropdown(description='Scatter Angle:', options=(('130', 130), ('90', 90), ('50', 50)), value=130)"
      ]
     },
     "metadata": {},
     "output_type": "display_data"
    }
   ],
   "source": [
    "twoTheta = widgets.Dropdown(\n",
    "    options=[('130', 130), ('90', 90), ('50', 50)],\n",
    "    value=130,\n",
    "    description='Scatter Angle:',\n",
    ")\n",
    "display(twoTheta)"
   ]
  },
  {
   "cell_type": "code",
   "execution_count": 4,
   "metadata": {},
   "outputs": [
    {
     "data": {
      "application/vnd.jupyter.widget-view+json": {
       "model_id": "5f3f211e03e64c159e41439cc3fd5844",
       "version_major": 2,
       "version_minor": 0
      },
      "text/plain": [
       "IntSlider(value=708, description='Energy:', max=1000, min=500)"
      ]
     },
     "metadata": {},
     "output_type": "display_data"
    }
   ],
   "source": [
    "energy = widgets.IntSlider(\n",
    "    value=708,\n",
    "    min=500,\n",
    "    max=1000,\n",
    "    step=1,\n",
    "    description='Energy:',\n",
    ")\n",
    "display(energy)"
   ]
  },
  {
   "cell_type": "markdown",
   "metadata": {},
   "source": [
    "## Lattice parameter"
   ]
  },
  {
   "cell_type": "code",
   "execution_count": 5,
   "metadata": {},
   "outputs": [
    {
     "data": {
      "application/vnd.jupyter.widget-view+json": {
       "model_id": "e9f0745b757c4ab4947e2a16ad9c9aff",
       "version_major": 2,
       "version_minor": 0
      },
      "text/plain": [
       "FloatText(value=3.689, description='a:')"
      ]
     },
     "metadata": {},
     "output_type": "display_data"
    },
    {
     "data": {
      "application/vnd.jupyter.widget-view+json": {
       "model_id": "1c120df9f2ff41cd95a3729b01b80a85",
       "version_major": 2,
       "version_minor": 0
      },
      "text/plain": [
       "FloatText(value=3.689, description='b:')"
      ]
     },
     "metadata": {},
     "output_type": "display_data"
    },
    {
     "data": {
      "application/vnd.jupyter.widget-view+json": {
       "model_id": "29e38cc0e2da446994cb7912265018d3",
       "version_major": 2,
       "version_minor": 0
      },
      "text/plain": [
       "FloatText(value=5.854, description='c:')"
      ]
     },
     "metadata": {},
     "output_type": "display_data"
    },
    {
     "data": {
      "application/vnd.jupyter.widget-view+json": {
       "model_id": "742b6f42dcfb446b8b688b60486e848d",
       "version_major": 2,
       "version_minor": 0
      },
      "text/plain": [
       "FloatText(value=90.0, description='alpha:')"
      ]
     },
     "metadata": {},
     "output_type": "display_data"
    },
    {
     "data": {
      "application/vnd.jupyter.widget-view+json": {
       "model_id": "73b47f51e0ec4d7d99d7e9faf91c313f",
       "version_major": 2,
       "version_minor": 0
      },
      "text/plain": [
       "FloatText(value=90.0, description='beta:')"
      ]
     },
     "metadata": {},
     "output_type": "display_data"
    },
    {
     "data": {
      "application/vnd.jupyter.widget-view+json": {
       "model_id": "96ed5525c01f4a3188e94dc6bc89de99",
       "version_major": 2,
       "version_minor": 0
      },
      "text/plain": [
       "FloatText(value=90.0, description='gamma:')"
      ]
     },
     "metadata": {},
     "output_type": "display_data"
    }
   ],
   "source": [
    "a= widgets.FloatText(\n",
    "    value=3.689,\n",
    "    description='a:',\n",
    ")\n",
    "display(a)\n",
    "\n",
    "b= widgets.FloatText(\n",
    "    value=3.689,\n",
    "    description='b:',\n",
    ")\n",
    "display(b)\n",
    "\n",
    "c= widgets.FloatText(\n",
    "    value=5.854,\n",
    "    description='c:',\n",
    ")\n",
    "display(c)\n",
    "\n",
    "alpha= widgets.FloatText(\n",
    "    value=90,\n",
    "    description='alpha:',\n",
    ")\n",
    "display(alpha)\n",
    "\n",
    "beta= widgets.FloatText(\n",
    "    value=90,\n",
    "    description='beta:',\n",
    ")\n",
    "display(beta)\n",
    "\n",
    "gamma = widgets.FloatText(\n",
    "    value=90,\n",
    "    description='gamma:',\n",
    ")\n",
    "display(gamma)\n"
   ]
  },
  {
   "cell_type": "markdown",
   "metadata": {},
   "source": [
    "## Grazing Direction"
   ]
  },
  {
   "cell_type": "code",
   "execution_count": 6,
   "metadata": {},
   "outputs": [
    {
     "data": {
      "application/vnd.jupyter.widget-view+json": {
       "model_id": "8323311b92b840f78ae410de8ea22f01",
       "version_major": 2,
       "version_minor": 0
      },
      "text/plain": [
       "IntText(value=1, description='H:')"
      ]
     },
     "metadata": {},
     "output_type": "display_data"
    },
    {
     "data": {
      "application/vnd.jupyter.widget-view+json": {
       "model_id": "5c0d753b4c4946e9aa3b383774b402c5",
       "version_major": 2,
       "version_minor": 0
      },
      "text/plain": [
       "IntText(value=0, description='K:')"
      ]
     },
     "metadata": {},
     "output_type": "display_data"
    }
   ],
   "source": [
    "h= widgets.IntText(\n",
    "    value=1,\n",
    "    description='H:',\n",
    ")\n",
    "display(h)\n",
    "\n",
    "k= widgets.IntText(\n",
    "    value=0,\n",
    "    description='K:',\n",
    ")\n",
    "display(k)\n"
   ]
  },
  {
   "cell_type": "markdown",
   "metadata": {},
   "source": [
    "## Calculate"
   ]
  },
  {
   "cell_type": "code",
   "execution_count": 7,
   "metadata": {},
   "outputs": [],
   "source": [
    "theta= widgets.FloatText(\n",
    "    value=65,\n",
    "    description='Theta:',\n",
    ")\n",
    "\n",
    "q = widgets.Text(\n",
    "    value='0,0',\n",
    "    description='Q:',\n",
    ")"
   ]
  },
  {
   "cell_type": "code",
   "execution_count": 10,
   "metadata": {
    "scrolled": false
   },
   "outputs": [
    {
     "data": {
      "application/vnd.jupyter.widget-view+json": {
       "model_id": "c3acc69951a2447c9bba815129f4cda3",
       "version_major": 2,
       "version_minor": 0
      },
      "text/plain": [
       "FloatText(value=116.77270658829316, description='Theta:')"
      ]
     },
     "metadata": {},
     "output_type": "display_data"
    },
    {
     "data": {
      "application/vnd.jupyter.widget-view+json": {
       "model_id": "fb9da7d5fa784d40b2c4a4931baa0638",
       "version_major": 2,
       "version_minor": 0
      },
      "text/plain": [
       "Text(value='0.3,0.0', description='Q:')"
      ]
     },
     "metadata": {},
     "output_type": "display_data"
    }
   ],
   "source": [
    "output = widgets.Output()\n",
    "display(theta)\n",
    "display(q)\n",
    "\n",
    "def on_theta_change(change):\n",
    "\n",
    "    lattice = [a.value, b.value, c.value, alpha.value, beta.value, gamma.value]\n",
    "    ar, br, cr = invertedframe(lattice)\n",
    "    qStand = vectorSum(ar * h.value, br * k.value, (180 - lattice[5]))\n",
    "    en = energy.value\n",
    "    tTh = twoTheta.value\n",
    "    kIn, kOut = thToq(en, tTh, adressTheta(theta.value, tTh))\n",
    "    qIn = kIn / qStand\n",
    "    q.value = str(round(qIn * h.value,3)) +','+str(round(qIn * k.value,3))\n",
    "\n",
    "theta.observe(on_theta_change,'value')\n",
    "\n",
    "def on_q_change(change):\n",
    "\n",
    "    lattice = [a.value, b.value, c.value, alpha.value, beta.value, gamma.value]\n",
    "    ar, br, cr = invertedframe(lattice)\n",
    "    en = energy.value\n",
    "    tTh = twoTheta.value\n",
    "    qIn,qOut = map(float,q.value.split(','))\n",
    "    qStand = vectorSum(ar * h.value, br * k.value, (180 - lattice[5]))\n",
    "    kIn = qIn*qStand\n",
    "    theta.value = round(adressTheta(qInToth(en, tTh, kIn), tTh),2)\n",
    "\n",
    "q.observe(on_q_change,'value')"
   ]
  },
  {
   "cell_type": "code",
   "execution_count": null,
   "metadata": {},
   "outputs": [],
   "source": []
  }
 ],
 "metadata": {
  "interpreter": {
   "hash": "ac59ebe37160ed0dfa835113d9b8498d9f09ceb179beaac4002f036b9467c963"
  },
  "kernelspec": {
   "display_name": "Python 3 (ipykernel)",
   "language": "python",
   "name": "python3"
  },
  "language_info": {
   "codemirror_mode": {
    "name": "ipython",
    "version": 3
   },
   "file_extension": ".py",
   "mimetype": "text/x-python",
   "name": "python",
   "nbconvert_exporter": "python",
   "pygments_lexer": "ipython3",
   "version": "3.9.5"
  }
 },
 "nbformat": 4,
 "nbformat_minor": 2
}
