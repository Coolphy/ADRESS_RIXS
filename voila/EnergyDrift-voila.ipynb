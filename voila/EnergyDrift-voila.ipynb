{
 "cells": [
  {
   "cell_type": "code",
   "execution_count": null,
   "metadata": {},
   "outputs": [],
   "source": [
    "%matplotlib widget\n",
    "import os\n",
    "import datetime\n",
    "import h5py\n",
    "import numpy as np\n",
    "import matplotlib.pyplot as plt\n",
    "from scipy.optimize import curve_fit\n",
    "today=datetime.date.today()"
   ]
  },
  {
   "cell_type": "code",
   "execution_count": null,
   "metadata": {},
   "outputs": [],
   "source": [
    "import ipywidgets as widgets\n",
    "import ipympl\n",
    "from IPython.display import clear_output"
   ]
  },
  {
   "cell_type": "code",
   "execution_count": null,
   "metadata": {},
   "outputs": [],
   "source": [
    "def gaussian_norm(x,xc,fwhm,area):\n",
    "    norm = 1./fwhm/np.sqrt(np.pi/4/np.log(2))\n",
    "    return area*norm*np.exp(-4*np.log(2)*(x-xc)**2/(fwhm)**2)\n",
    "\n",
    "def fitpeak(data):\n",
    "    center = np.argmax(data)\n",
    "    xdata = np.arange(len(data))\n",
    "    popt,pcov = curve_fit(gaussian_norm, xdata, data, p0=[center,10.,np.max(data)])\n",
    "    mu = popt[0]\n",
    "    sigma = popt[1]\n",
    "    amp = popt[2]\n",
    "    return mu,sigma,amp\n",
    "\n",
    "def getdata(scannumber):\n",
    "    global mypath\n",
    "    global base\n",
    "    \n",
    "    if scannumber < 10:\n",
    "        filename = mypath+'\\\\'+base+\"_\"+\"000\"+str(scannumber)\n",
    "    elif scannumber < 100:\n",
    "        filename = mypath+'\\\\'+base+\"_\"+\"00\"+str(scannumber)\n",
    "    elif scannumber < 1000:    \n",
    "        filename = mypath+'\\\\'+base+\"_\"+\"0\"+str(scannumber)\n",
    "    else:    \n",
    "        filename = mypath+base+\"_\"+str(scannumber)\n",
    "\n",
    "    f1 = h5py.File(filename+\"_d1.h5\", 'r')\n",
    "    f2 = h5py.File(filename+\"_d2.h5\", 'r')\n",
    "    f3 = h5py.File(filename+\"_d3.h5\", 'r')\n",
    "\n",
    "    ccd1 = np.array(f1['entry']['analysis']['spectrum'][()])\n",
    "    ccd2 = np.array(f2['entry']['analysis']['spectrum'][()])\n",
    "    ccd3 = np.array(f3['entry']['analysis']['spectrum'][()])\n",
    "\n",
    "    energy = round(np.mean(f3['entry']['instrument']['NDAttributes']['PhotonEnergy'][()]),2)\n",
    "    \n",
    "    return energy,[ccd1,ccd2,ccd3]\n",
    "\n",
    "def getdatafit(scannumber):\n",
    "    \n",
    "    energy,[ccd1,ccd2,ccd3] = getdata(scannumber)\n",
    "    \n",
    "    mu1,sig1,amp1 = fitpeak(ccd1)\n",
    "    mu2,sig2,amp2 = fitpeak(ccd2)\n",
    "    mu3,sig3,amp3 = fitpeak(ccd3)\n",
    "    \n",
    "    return energy,[mu1,sig1,amp1,mu2,sig2,amp2,mu3,sig3,amp3]"
   ]
  },
  {
   "cell_type": "code",
   "execution_count": null,
   "metadata": {
    "scrolled": false
   },
   "outputs": [],
   "source": [
    "def plot_raw():\n",
    "    fig = plt.figure()\n",
    "\n",
    "    for i,s in enumerate(scans):\n",
    "        energy,[ccd1,ccd2,ccd3] = getdata(s)\n",
    "        offset = 200\n",
    "        xdata = np.arange(len(ccd1))\n",
    "        plt.plot(xdata,ccd1+offset*i,marker='.',color = \"r\")\n",
    "        plt.plot(xdata,ccd2+offset*i,marker='.', color = \"g\")\n",
    "        plt.plot(xdata,ccd3+offset*i,marker='.', color = \"b\")\n",
    "        en,[xc1,fwhm1,area1,xc2,fwhm2,area2,xc3,fwhm3,area3]= getdatafit(s)\n",
    "        plt.plot(xdata,gaussian_norm(xdata,xc1,fwhm1,area1)+offset*i,'-',color = \"black\")\n",
    "        plt.plot(xdata,gaussian_norm(xdata,xc2,fwhm2,area2)+offset*i,'-',color = \"black\")\n",
    "        plt.plot(xdata,gaussian_norm(xdata,xc3,fwhm3,area3)+offset*i,'-',color = \"black\")\n",
    "        \n",
    "    plt.xlabel('subpixel')\n",
    "    plt.ylabel('Counts/1 min')\n",
    "    # plt.savefig(str(today)+'_'+base+'_'+'drift.pdf',dpi=600,format='pdf')\n",
    "    \n",
    "    plt.show()\n"
   ]
  },
  {
   "cell_type": "code",
   "execution_count": null,
   "metadata": {},
   "outputs": [],
   "source": [
    "def plot_center():\n",
    "    fig = plt.figure()\n",
    "\n",
    "    for i,s in enumerate(scans):\n",
    "\n",
    "        en,[xc1,fwhm1,area1,xc2,fwhm2,area2,xc3,fwhm3,area3]= getdatafit(s)\n",
    "        plt.plot(en,fwhm1/4,'o',color = \"black\")\n",
    "        plt.plot(en,fwhm2/4,'o',color = \"red\")\n",
    "        plt.plot(en,fwhm3/4,'o',color = \"blue\")\n",
    "        \n",
    "    plt.xlabel('Photon Energy (eV)')\n",
    "    plt.ylabel('FWHM (pixel)')\n",
    "    # plt.savefig(str(today)+'_'+base+'_'+'FWHM.pdf',dpi=600,format='pdf')\n",
    "    \n",
    "    plt.show()"
   ]
  },
  {
   "cell_type": "code",
   "execution_count": null,
   "metadata": {},
   "outputs": [],
   "source": [
    "def plot_slope():\n",
    "    fwhm1 =np.array([])\n",
    "    fwhm2 = np.array([])\n",
    "    fwhm3 = np.array([])\n",
    "    center1 = np.array([])\n",
    "    center2 = np.array([])\n",
    "    center3 = np.array([])\n",
    "    energy = np.array([])\n",
    "\n",
    "    for i,s in enumerate(scans):\n",
    "        en,[xc1,gamma1,area1,xc2,gamma2,area2,xc3,gamma3,area3]= getdatafit(s)\n",
    "        energy = np.append(energy,en)\n",
    "        fwhm1 = np.append(fwhm1,gamma1)\n",
    "        center1 = np.append(center1,xc1)\n",
    "        fwhm2 = np.append(fwhm2,gamma2)\n",
    "        center2 = np.append(center2,xc2)\n",
    "        fwhm3 = np.append(fwhm3,gamma3)\n",
    "        center3 = np.append(center3,xc3)\n",
    "\n",
    "    [myslope1,myinter1] = np.polyfit(energy,center1,1)\n",
    "    [myslope2,myinter2] = np.polyfit(energy,center2,1)\n",
    "    [myslope3,myinter3] = np.polyfit(energy,center3,1)\n",
    "    energypersubpixel = 1/np.mean([myslope1,myslope2,myslope3])\n",
    "    xplot = np.linspace(energy[0],energy[-1],100)\n",
    "    plt.figure()\n",
    "    plt.errorbar(energy,center1,yerr=fwhm1,xerr=None,linewidth=0,marker = \"o\")\n",
    "    plt.errorbar(energy,center2,yerr=fwhm2,xerr=None,linewidth=0,marker = \"o\")\n",
    "    plt.errorbar(energy,center3,yerr=fwhm3,xerr=None,linewidth=0,marker = \"o\")\n",
    "    plt.xlabel('Photon Energy (eV)')\n",
    "    plt.ylabel('Elastic position (subpixel)')\n",
    "    plt.plot(xplot,myslope1*xplot+myinter1, color = 'black')\n",
    "    plt.plot(xplot,myslope2*xplot+myinter2, color = 'black')\n",
    "    plt.plot(xplot,myslope3*xplot+myinter3, color = 'black')\n",
    "    plt.annotate('Energy dispersion = '+str(round(energypersubpixel*1000,3))+' meV/subpixel',xy = (energy[0],center1[-1]))\n",
    "    plt.annotate('Energy resolution = '+str(round(np.mean([fwhm1,fwhm2,fwhm3])*energypersubpixel*1000,3))+' meV',xy = (energy[0],center1[-2]))\n",
    "    plt.savefig(str(today)+'_'+base+'_'+'slope.pdf',dpi=600,format='png')\n",
    "    plt.show()"
   ]
  },
  {
   "cell_type": "code",
   "execution_count": null,
   "metadata": {},
   "outputs": [],
   "source": [
    "def do_plot():\n",
    "    os.chdir(mypath)\n",
    "    plot_raw()\n",
    "    plot_center()\n",
    "    plot_slope()"
   ]
  },
  {
   "cell_type": "code",
   "execution_count": null,
   "metadata": {
    "scrolled": true
   },
   "outputs": [],
   "source": [
    "path = widgets.Text(\n",
    "    value=r'X:\\\\RIXS\\\\Asmara',\n",
    "    placeholder='Parent Path',\n",
    "    description='Project Path:',\n",
    "    disabled=False\n",
    ")\n",
    "display(path)\n",
    "\n",
    "atom = widgets.Text(\n",
    "    value='O',\n",
    "    placeholder='Element',\n",
    "    description='Prefix:',\n",
    "    disabled=False\n",
    ")\n",
    "display(atom)\n",
    "\n",
    "scan = widgets.Text(\n",
    "    value='1,2,3',\n",
    "    placeholder='1,2,3',\n",
    "    description='Scan:',\n",
    "    disabled=False\n",
    ")\n",
    "display(scan)\n",
    "\n",
    "plot = widgets.Button(description=\"Plot\")\n",
    "output = widgets.Output()\n",
    "\n",
    "display(plot,output)"
   ]
  },
  {
   "cell_type": "code",
   "execution_count": null,
   "metadata": {},
   "outputs": [],
   "source": [
    "def on_button_clicked(b):\n",
    "    output.clear_output()\n",
    "\n",
    "    with output:\n",
    "        global mypath,base,scans\n",
    "        mypath = path.value\n",
    "        base = atom.value\n",
    "        scans = tuple(map(int,scan.value.split(',')))\n",
    "        do_plot()\n",
    "\n",
    "plot.on_click(on_button_clicked)"
   ]
  },
  {
   "cell_type": "code",
   "execution_count": null,
   "metadata": {},
   "outputs": [],
   "source": []
  }
 ],
 "metadata": {
  "kernelspec": {
   "display_name": "Python 3.9.5 64-bit",
   "language": "python",
   "name": "python3"
  },
  "language_info": {
   "codemirror_mode": {
    "name": "ipython",
    "version": 3
   },
   "file_extension": ".py",
   "mimetype": "text/x-python",
   "name": "python",
   "nbconvert_exporter": "python",
   "pygments_lexer": "ipython3",
   "version": "3.9.5"
  },
  "vscode": {
   "interpreter": {
    "hash": "11938c6bc6919ae2720b4d5011047913343b08a43b18698fd82dedb0d4417594"
   }
  }
 },
 "nbformat": 4,
 "nbformat_minor": 2
}
