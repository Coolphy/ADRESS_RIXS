{
 "cells": [
  {
   "cell_type": "code",
   "execution_count": 1,
   "id": "d1901e73-0713-4e86-96ca-24a4bb5f251d",
   "metadata": {},
   "outputs": [],
   "source": [
    "import h5py\n",
    "import pandas as pd\n",
    "import numpy as np\n",
    "import os\n",
    "pd.set_option('display.max_row',10000)"
   ]
  },
  {
   "cell_type": "code",
   "execution_count": 25,
   "id": "e87fef44-5e76-415e-adf1-045b29831437",
   "metadata": {},
   "outputs": [],
   "source": [
    "useful_strings = [\n",
    "    \"PhotonEnergy\",\n",
    "    \"PolarMode\",\n",
    "    \"SampleTemp\",\n",
    "    \"SampleXs\",\n",
    "    \"SampleYs\",\n",
    "    \"SampleZ\",\n",
    "    \"SampleTheta\",\n",
    "    \"SamplePhi\",\n",
    "    \"SampleTilt\",\n",
    "    \"AcquireTime\",\n",
    "    \"ExposureSplit\",\n",
    "    \"ExitSlit\",\n",
    "    \"BeamCurrent\",\n",
    "    ]\n",
    "try:\n",
    "    RIXSinfo\n",
    "except NameError:\n",
    "    RIXSinfo = pd.DataFrame(columns = ['FileName'] + useful_strings)"
   ]
  },
  {
   "cell_type": "code",
   "execution_count": 26,
   "id": "8af08942-175b-43e0-95bc-2ba2f956e8e8",
   "metadata": {},
   "outputs": [],
   "source": [
    "def polar_trans(PolarMode):                           \n",
    "    if PolarMode == 0:\n",
    "        Polarization = \"LH\"\n",
    "    elif PolarMode == 1:\n",
    "        Polarization = \"LV\"\n",
    "    elif PolarMode == 2:\n",
    "        Polarization = \"C+\"\n",
    "    else:\n",
    "        Polarization = \"C-\"\n",
    "    return Polarization\n",
    "\n",
    "def load_meta(file_name,path):\n",
    "    global useful_strings  \n",
    "    f = h5py.File(f\"{path}/{file_name}_d1.h5\",'r')\n",
    "    meta_data = {}\n",
    "    NDAttributes = f['entry']['instrument']['NDAttributes']\n",
    "    meta_data['FileName'] = file_name\n",
    "    for key in useful_strings:\n",
    "        meta_data[key] = round(np.mean(NDAttributes[key]),3)   \n",
    "    meta_data[\"PolarMode\"] = polar_trans(meta_data[\"PolarMode\"])      \n",
    "    f.close()\n",
    "    return meta_data"
   ]
  },
  {
   "cell_type": "code",
   "execution_count": 57,
   "id": "749de5fa-f8f1-405b-82b9-ea4fc682813e",
   "metadata": {},
   "outputs": [],
   "source": [
    "def scan_information(file_list,path):\n",
    "    global RIXSinfo\n",
    "    for filename in file_list:\n",
    "        file_name = filename[:-6]\n",
    "        if file_name not in RIXSinfo[\"FileName\"].values:\n",
    "            try:\n",
    "                meta_data = pd.DataFrame([load_meta(file_name,path)]) \n",
    "                RIXSinfo = pd.concat([RIXSinfo,meta_data],ignore_index = True)\n",
    "            except:\n",
    "                pass\n",
    "    RIXSinfo.sort_values(\"FileName\",inplace = True,ignore_index = True)\n",
    "    return RIXSinfo"
   ]
  },
  {
   "cell_type": "code",
   "execution_count": 28,
   "id": "63a39ad8",
   "metadata": {},
   "outputs": [],
   "source": [
    "def listFile(fileDir):\n",
    "    list = sorted(os.listdir(fileDir))\n",
    "    # list.sort(key=lambda fn: os.path.getmtime(fileDir + fn))\n",
    "    return list"
   ]
  },
  {
   "cell_type": "code",
   "execution_count": 29,
   "id": "041641a8",
   "metadata": {
    "scrolled": true
   },
   "outputs": [
    {
     "data": {
      "application/vnd.jupyter.widget-view+json": {
       "model_id": "5d03d99a6ad2437f852b1e0a4cd42eaf",
       "version_major": 2,
       "version_minor": 0
      },
      "text/plain": [
       "Text(value='', description='Path:', placeholder='X://RIXS/Asmara')"
      ]
     },
     "metadata": {},
     "output_type": "display_data"
    },
    {
     "data": {
      "application/vnd.jupyter.widget-view+json": {
       "model_id": "f9e3e222b92d4dcbaa3bd1bf206a7507",
       "version_major": 2,
       "version_minor": 0
      },
      "text/plain": [
       "Button(description='Scan', style=ButtonStyle())"
      ]
     },
     "metadata": {},
     "output_type": "display_data"
    },
    {
     "data": {
      "application/vnd.jupyter.widget-view+json": {
       "model_id": "9c6205f6571c4c058e3e2ddfbf7bac65",
       "version_major": 2,
       "version_minor": 0
      },
      "text/plain": [
       "Output()"
      ]
     },
     "metadata": {},
     "output_type": "display_data"
    }
   ],
   "source": [
    "import ipywidgets as widgets\n",
    "\n",
    "path = widgets.Text(\n",
    "    value='',\n",
    "    placeholder='X://RIXS/Asmara',\n",
    "    description='Path:',\n",
    "    disabled=False\n",
    ")\n",
    "\n",
    "# display(path)\n",
    "\n",
    "scan = widgets.Button(description=\"Scan\")\n",
    "output = widgets.Output()\n",
    "\n",
    "display(path,scan, output)"
   ]
  },
  {
   "cell_type": "code",
   "execution_count": 34,
   "id": "efcdb5d8-bbec-4563-a112-311c712296a7",
   "metadata": {},
   "outputs": [],
   "source": [
    "def do_scan():\n",
    "    global RIXSinfo\n",
    "    try:\n",
    "        list = listFile(path.value)\n",
    "        RIXSinfo = scan_information(list[::3],path.value)\n",
    "    except:\n",
    "        pass\n",
    "\n",
    "\n",
    "def on_button_clicked(b):\n",
    "    output.clear_output()\n",
    "\n",
    "    with output:\n",
    "        do_scan()\n",
    "        display(RIXSinfo)\n",
    "\n",
    "scan.on_click(on_button_clicked)"
   ]
  },
  {
   "cell_type": "code",
   "execution_count": 8,
   "id": "e4feb698-e1da-4e91-9a08-208beb48ba32",
   "metadata": {},
   "outputs": [],
   "source": [
    "# RIXSinfo.to_csv(f\"{path}/logbook.csv\",index=False) "
   ]
  }
 ],
 "metadata": {
  "kernelspec": {
   "display_name": "Python 3 (ipykernel)",
   "language": "python",
   "name": "python3"
  },
  "language_info": {
   "codemirror_mode": {
    "name": "ipython",
    "version": 3
   },
   "file_extension": ".py",
   "mimetype": "text/x-python",
   "name": "python",
   "nbconvert_exporter": "python",
   "pygments_lexer": "ipython3",
   "version": "3.9.5"
  },
  "vscode": {
   "interpreter": {
    "hash": "11938c6bc6919ae2720b4d5011047913343b08a43b18698fd82dedb0d4417594"
   }
  }
 },
 "nbformat": 4,
 "nbformat_minor": 5
}
