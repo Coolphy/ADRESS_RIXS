{
 "cells": [
  {
   "cell_type": "code",
   "execution_count": 18,
   "metadata": {},
   "outputs": [],
   "source": [
    "import math\n",
    "\n",
    "\n",
    "def EtoQ(energy):\n",
    "    qvalue = energy / 1973\n",
    "    return qvalue\n",
    "\n",
    "\n",
    "def qTrans(energy, twoTheta):\n",
    "    qTrans = EtoQ(energy) * math.sin(twoTheta / 180 * math.pi / 2) * 2\n",
    "    return qTrans\n",
    "\n",
    "\n",
    "def adressTheta(theta, twoTheta):\n",
    "    alpha = twoTheta - theta\n",
    "    return alpha\n",
    "\n",
    "\n",
    "def calVolume(a, b, c, alpha, beta, gamma):\n",
    "\n",
    "    Volume = (\n",
    "        a\n",
    "        * b\n",
    "        * c\n",
    "        * math.sqrt(\n",
    "            1\n",
    "            - math.cos(alpha / 180 * math.pi) * math.cos(alpha / 180 * math.pi)\n",
    "            - math.cos(beta / 180 * math.pi) * math.cos(beta / 180 * math.pi)\n",
    "            - math.cos(gamma / 180 * math.pi) * math.cos(gamma / 180 * math.pi)\n",
    "            + 2\n",
    "            * math.cos(alpha / 180 * math.pi)\n",
    "            * math.cos(beta / 180 * math.pi)\n",
    "            * math.cos(gamma / 180 * math.pi)\n",
    "        )\n",
    "    )\n",
    "    return Volume\n",
    "\n",
    "\n",
    "def invertedframe(latticeConstant):\n",
    "    [a, b, c, alpha, beta, gamma] = latticeConstant\n",
    "    Vol = calVolume(a, b, c, alpha, beta, gamma)\n",
    "    ar = 2 * math.pi * b * c * math.sin(alpha / 180 * math.pi) / Vol\n",
    "    br = 2 * math.pi * c * a * math.sin(beta / 180 * math.pi) / Vol\n",
    "    cr = 2 * math.pi * a * b * math.sin(gamma / 180 * math.pi) / Vol\n",
    "\n",
    "    return ar, br, cr\n",
    "\n",
    "\n",
    "def thToq(energy, twoTheta, alpha):\n",
    "    qParallel = qTrans(energy, twoTheta) * math.cos(\n",
    "        (alpha + (180 - twoTheta) / 2) / 180 * math.pi\n",
    "    )\n",
    "    qPerpendicular = qTrans(energy, twoTheta) * math.sin(\n",
    "        (alpha + (180 - twoTheta) / 2) / 180 * math.pi\n",
    "    )\n",
    "    return qParallel, qPerpendicular\n",
    "\n",
    "\n",
    "def qInToth(energy, twoTheta, qIn):\n",
    "\n",
    "    alpha = (\n",
    "        math.acos(qIn / qTrans(energy, twoTheta)) / math.pi * 180 - (180 - twoTheta) / 2\n",
    "    )\n",
    "    return alpha\n",
    "\n",
    "\n",
    "def vectorSum(a, b, gamma):\n",
    "    sum = math.sqrt(a * a + b * b - 2 * a * b * math.cos((180 - gamma) / 180 * math.pi))\n",
    "    return sum"
   ]
  },
  {
   "cell_type": "code",
   "execution_count": 23,
   "metadata": {},
   "outputs": [],
   "source": [
    "twoTheta = 130\n",
    "energy = 930\n",
    "\n",
    "lattice = [3.82, 3.82, 30.89, 90, 90, 90]\n",
    "ar, br, cr = invertedframe(lattice)"
   ]
  },
  {
   "cell_type": "code",
   "execution_count": 24,
   "metadata": {},
   "outputs": [
    {
     "name": "stdout",
     "output_type": "stream",
     "text": [
      "0.3338970343959193\n",
      "0.23610085723943242\n"
     ]
    }
   ],
   "source": [
    "# alpha = 10\n",
    "# qIn, qOut = project(energy, twoTheta, alpha)\n",
    "\n",
    "theta = 105\n",
    "qIn, qOut = thToq(energy, twoTheta, adressTheta(theta, twoTheta))\n",
    "\n",
    "# (1,0)\n",
    "q = qIn / ar\n",
    "print(q)\n",
    "\n",
    "# (1,1)\n",
    "q = qIn / vectorSum(ar, br, (180 - lattice[5]))\n",
    "print(q)\n",
    "\n",
    "#(H,K)"
   ]
  },
  {
   "cell_type": "code",
   "execution_count": 26,
   "metadata": {},
   "outputs": [
    {
     "name": "stdout",
     "output_type": "stream",
     "text": [
      "87.64507220947935\n",
      "97.9906770941421\n",
      "137.3411297121224\n"
     ]
    }
   ],
   "source": [
    "# qIn = 1\n",
    "# alpha = qInToth(energy, twoTheta, qIn)\n",
    "\n",
    "#(1,0)\n",
    "q=0.2\n",
    "qIn = q*ar\n",
    "theta = adressTheta(qInToth(energy, twoTheta, qIn), twoTheta)\n",
    "print(theta)\n",
    "\n",
    "#(1,1)\n",
    "q=0.2\n",
    "qIn = vectorSum(ar,br,(180 - lattice[5])) * q\n",
    "theta = adressTheta(qInToth(energy, twoTheta, qIn), twoTheta)\n",
    "print(theta)\n",
    "\n",
    "#(H,K)\n",
    "q=[0.35,0.35]\n",
    "qIn = vectorSum(ar*q[0],br*q[1],(180 - lattice[5]))\n",
    "theta = adressTheta(qInToth(energy, twoTheta, qIn), twoTheta)\n",
    "print(theta)"
   ]
  }
 ],
 "metadata": {
  "interpreter": {
   "hash": "ac59ebe37160ed0dfa835113d9b8498d9f09ceb179beaac4002f036b9467c963"
  },
  "kernelspec": {
   "display_name": "Python 3.9.5 64-bit",
   "language": "python",
   "name": "python3"
  },
  "language_info": {
   "codemirror_mode": {
    "name": "ipython",
    "version": 3
   },
   "file_extension": ".py",
   "mimetype": "text/x-python",
   "name": "python",
   "nbconvert_exporter": "python",
   "pygments_lexer": "ipython3",
   "version": "3.9.5"
  },
  "orig_nbformat": 4
 },
 "nbformat": 4,
 "nbformat_minor": 2
}
