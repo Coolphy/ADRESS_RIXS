{
 "cells": [
  {
   "cell_type": "code",
   "execution_count": null,
   "metadata": {},
   "outputs": [],
   "source": [
    "project_path = \"X:/Asmara/\"\n",
    "base_atom = \"O\"\n",
    "energy_dispersion = 0.00457  # eV/subpixel\n"
   ]
  },
  {
   "cell_type": "code",
   "execution_count": null,
   "metadata": {},
   "outputs": [],
   "source": [
    "%pylab agg\n",
    "%matplotlib nbagg\n",
    "\n",
    "import h5py\n",
    "import numpy as np\n",
    "import matplotlib.pyplot as plt\n",
    "from scipy.signal import correlate\n",
    "from scipy.signal import find_peaks\n",
    "# from scipy.optimize import curve_fit\n"
   ]
  },
  {
   "cell_type": "code",
   "execution_count": null,
   "metadata": {},
   "outputs": [],
   "source": [
    "xas_dict = {}\n",
    "\n",
    "\n",
    "def load_xas(scan_number, path=project_path.replace(\"\\\\\", \"/\"), base=base_atom):\n",
    "\n",
    "    global xas_dict\n",
    "    if scan_number not in xas_dict:\n",
    "        xas = {}\n",
    "        data = np.loadtxt(f\"{path}/XAS/{base}_{scan_number:04d}.xas\", comments=\"#\")\n",
    "        xas[\"EN\"] = data[:, 0]\n",
    "        xas[\"TEY\"] = data[:, 1]\n",
    "        xas[\"TFY\"] = data[:, 2]\n",
    "        xas[\"RMU\"] = data[:, 3]\n",
    "        xas_dict[scan_number] = xas\n",
    "    else:\n",
    "        xas = xas_dict[scan_number]\n",
    "\n",
    "    return xas[\"EN\"], xas[\"TEY\"], xas[\"TFY\"], xas[\"RMU\"]\n"
   ]
  },
  {
   "cell_type": "code",
   "execution_count": null,
   "metadata": {},
   "outputs": [],
   "source": [
    "rixs_dict = {}\n",
    "\n",
    "\n",
    "def load_h5(file_name):\n",
    "\n",
    "    f = h5py.File(file_name, \"r\")\n",
    "    ccd = np.array(f[\"entry\"][\"analysis\"][\"spectrum\"][()])\n",
    "    f.close()\n",
    "\n",
    "    return ccd\n",
    "\n",
    "\n",
    "def load_ccds(scan_number, path=project_path.replace(\"\\\\\", \"/\"), base=base_atom):\n",
    "\n",
    "    global rixs_dict\n",
    "    if scan_number not in rixs_dict:\n",
    "        rixs = {}\n",
    "        for i in range(1, 4):\n",
    "            rixs[i] = load_h5(f\"{path}/RIXS/{base}_{scan_number:04d}_d{i}.h5\")\n",
    "        rixs_dict[scan_number] = rixs\n",
    "    else:\n",
    "        rixs = rixs_dict[scan_number]\n",
    "\n",
    "    return rixs[1], rixs[2], rixs[3]\n"
   ]
  },
  {
   "cell_type": "code",
   "execution_count": null,
   "metadata": {},
   "outputs": [],
   "source": [
    "def x_corr(refData, uncorrData):\n",
    "    corr = correlate(refData, uncorrData)\n",
    "    lag = np.argmax(corr)\n",
    "    corrData = np.roll(uncorrData, lag)\n",
    "\n",
    "    return corrData\n",
    "\n",
    "\n",
    "def elastic_shift(\n",
    "    pixelData, zeropixel=None, height=10, width=3, enDisp=energy_dispersion\n",
    "):\n",
    "    xdataPixel = np.arange(len(pixelData))\n",
    "\n",
    "    if zeropixel == None:\n",
    "        #     try to find peak\n",
    "        peaks, _ = find_peaks(pixelData, height=height, width=width)\n",
    "\n",
    "        #     try to find peak with right edge\n",
    "        # peaks = xdataPixel[pixelData>height]\n",
    "\n",
    "    else:\n",
    "        peaks = [zeropixel]\n",
    "\n",
    "    # chop data\n",
    "    xdataPixel = xdataPixel[(peaks[-1] - 2000) : (peaks[-1] + 200)]\n",
    "    energyData = pixelData[(peaks[-1] - 2000) : (peaks[-1] + 200)]\n",
    "\n",
    "    xDataEnergy = (xdataPixel - peaks[-1]) * enDisp\n",
    "\n",
    "    return xDataEnergy, energyData"
   ]
  },
  {
   "cell_type": "code",
   "execution_count": null,
   "metadata": {},
   "outputs": [],
   "source": [
    "def load_rix(scan_number):\n",
    "\n",
    "    ccd1, ccd2, ccd3 = load_ccds(scan_number)\n",
    "    ccd1 = x_corr(ccd2, ccd1)\n",
    "    ccd3 = x_corr(ccd2, ccd3)\n",
    "\n",
    "    #    load raw data\n",
    "    xdata = np.arange(len(ccd2))\n",
    "    ydata = ccd1 + ccd2 + ccd3\n",
    "\n",
    "    #     shift automaticlly\n",
    "    xdata, ydata = elastic_shift(ydata)\n",
    "\n",
    "    return xdata, ydata\n",
    "\n",
    "\n",
    "def load_rixs(scans):\n",
    "\n",
    "    if type(scans) is int:\n",
    "        xdata,ydata = load_rix(scans)\n",
    "        # normalize data\n",
    "        # ydata = ydata/3\n",
    "    else:\n",
    "        for i, scan_number in enumerate(scans):\n",
    "            if i == 0:\n",
    "                xdata, onedata = load_rix(scan_number)\n",
    "                refdata = onedata\n",
    "                ydata = onedata\n",
    "            else:\n",
    "                _, onedata = load_rix(scan_number)\n",
    "                onedata = x_corr(refdata, onedata)\n",
    "                ydata = ydata + onedata\n",
    "\n",
    "        # normalize data\n",
    "        # ydata = ydata/len(scans)/3\n",
    "    \n",
    "    # shift elastic peaks\n",
    "    # xdata = elastic_shift(ydata)\n",
    "\n",
    "    return xdata, ydata"
   ]
  },
  {
   "cell_type": "code",
   "execution_count": null,
   "metadata": {},
   "outputs": [],
   "source": [
    "def plot_map(run_list,Y = None):\n",
    "    run_num = len(run_list)\n",
    "    data = np.zeros((run_num,2200))\n",
    "    for i,runs in enumerate(run_list):\n",
    "        if type(runs) is list:\n",
    "            X,d = load_rixs(runs)\n",
    "        else:\n",
    "            X,d = load_rixs([runs])\n",
    "        data[i,:] = d\n",
    "    if Y is None:\n",
    "        Y = np.arange(run_num+1)\n",
    "    else:\n",
    "        pass\n",
    "    fig,ax = plt.subplots()\n",
    "    im = ax.pcolorfast(X,Y,data)\n",
    "    fig.colorbar(im)\n",
    "    ax.set_xlabel('Energy Loss ( eV )')\n",
    "    \n",
    "    return fig,ax,im\n",
    "        "
   ]
  },
  {
   "cell_type": "markdown",
   "metadata": {},
   "source": [
    "## Example to plot XAS data"
   ]
  },
  {
   "cell_type": "code",
   "execution_count": null,
   "metadata": {},
   "outputs": [],
   "source": [
    "figure()\n",
    "EN, TEY, TFY, RMU = load_xas(2)\n",
    "plot(EN, TEY)\n"
   ]
  },
  {
   "cell_type": "markdown",
   "metadata": {},
   "source": [
    "## Example to plot one RIXS acquirement"
   ]
  },
  {
   "cell_type": "code",
   "execution_count": null,
   "metadata": {},
   "outputs": [],
   "source": [
    "figure()\n",
    "d1, d2, d3 = load_ccds(28)\n",
    "plot(d1)\n",
    "plot(d2)\n",
    "plot(d3)\n"
   ]
  },
  {
   "cell_type": "markdown",
   "metadata": {},
   "source": [
    "## Example to combine and plot repeating RIXS data"
   ]
  },
  {
   "cell_type": "code",
   "execution_count": null,
   "metadata": {},
   "outputs": [],
   "source": [
    "figure()\n",
    "X, Y = load_rixs([18, 19, 20, 21])\n",
    "plot(X, Y)\n"
   ]
  },
  {
   "cell_type": "markdown",
   "metadata": {},
   "source": [
    "## Example to plot sequence in colormap"
   ]
  },
  {
   "cell_type": "code",
   "execution_count": null,
   "metadata": {},
   "outputs": [],
   "source": [
    "run_list = range(16,26+1)\n",
    "fig,ax,im = plot_map(run_list,Y=(526-0.5,536+0.5))\n",
    "im.set_clim(0,10)\n",
    "ax.set_ylabel('Photon Energy ( eV )')"
   ]
  },
  {
   "cell_type": "code",
   "execution_count": null,
   "metadata": {},
   "outputs": [],
   "source": []
  }
 ],
 "metadata": {
  "kernelspec": {
   "display_name": "Python 3 (ipykernel)",
   "language": "python",
   "name": "python3"
  },
  "language_info": {
   "codemirror_mode": {
    "name": "ipython",
    "version": 3
   },
   "file_extension": ".py",
   "mimetype": "text/x-python",
   "name": "python",
   "nbconvert_exporter": "python",
   "pygments_lexer": "ipython3",
   "version": "3.9.5"
  },
  "vscode": {
   "interpreter": {
    "hash": "11938c6bc6919ae2720b4d5011047913343b08a43b18698fd82dedb0d4417594"
   }
  }
 },
 "nbformat": 4,
 "nbformat_minor": 4
}
