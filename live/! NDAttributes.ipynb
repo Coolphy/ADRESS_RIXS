{
 "cells": [
  {
   "cell_type": "code",
   "execution_count": null,
   "metadata": {},
   "outputs": [],
   "source": [
    "useful_strings = [\n",
    "    \"PhotonEnergy\",\n",
    "    \"PolarMode\",\n",
    "    \"SampleTemp\",\n",
    "    \"SampleXs\",\n",
    "    \"SampleYs\",\n",
    "    \"SampleZ\",\n",
    "    \"SampleTheta\",\n",
    "    \"SamplePhi\",\n",
    "    \"SampleTilt\",\n",
    "    \"AcquireTime\",\n",
    "    \"ExposureSplit\",\n",
    "    \"ExitSlit\",\n",
    "    \"BeamCurrent\",\n",
    "    ]"
   ]
  },
  {
   "cell_type": "code",
   "execution_count": null,
   "metadata": {},
   "outputs": [],
   "source": [
    "def polar_trans(PolarMode):                           \n",
    "    if PolarMode == 0:\n",
    "        Polarization = \"LH\"\n",
    "    elif PolarMode == 1:\n",
    "        Polarization = \"LV\"\n",
    "    elif PolarMode == 2:\n",
    "        Polarization = \"C+\"\n",
    "    elif PolarMode == 3:\n",
    "        Polarization = \"C-\"\n",
    "    else:\n",
    "        print(\"No such polarization\")\n",
    "    return Polarization"
   ]
  },
  {
   "cell_type": "code",
   "execution_count": null,
   "metadata": {},
   "outputs": [],
   "source": [
    "import h5py\n",
    "import numpy as np\n",
    "\n",
    "def load_NDA(file_name,string):\n",
    "    f = h5py.File(file_name,'r')\n",
    "    mean_value = round(np.mean(f['entry']['instrument']['NDAttributes'][string]),3)  \n",
    "    if string == \"PolarMode\":                  \n",
    "        mean_value = polar_trans(mean_value) \n",
    "    f.close()                                            \n",
    "    return mean_value"
   ]
  },
  {
   "cell_type": "code",
   "execution_count": null,
   "metadata": {},
   "outputs": [],
   "source": [
    "Path = \"X:/Asmara/RIXS\"\n",
    "Atom = \"O\"\n",
    "Run = lambda runNo : f\"{Path}/{Atom}_{runNo:04d}_d1.h5\""
   ]
  },
  {
   "cell_type": "code",
   "execution_count": null,
   "metadata": {},
   "outputs": [],
   "source": [
    "print(load_NDA(Run(16),\"PhotonEnergy\"))"
   ]
  }
 ],
 "metadata": {
  "kernelspec": {
   "display_name": "Python 3",
   "language": "python",
   "name": "python3"
  },
  "language_info": {
   "name": "python",
   "version": "3.9.5"
  },
  "orig_nbformat": 4
 },
 "nbformat": 4,
 "nbformat_minor": 2
}
