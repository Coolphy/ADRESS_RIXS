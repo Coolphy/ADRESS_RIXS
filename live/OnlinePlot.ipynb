{
 "cells": [
  {
   "cell_type": "code",
   "execution_count": null,
   "metadata": {},
   "outputs": [],
   "source": [
    "%pylab agg\n",
    "%matplotlib nbagg\n",
    "\n",
    "import h5py\n",
    "\n",
    "from scipy.signal import correlate\n",
    "from scipy.signal import find_peaks\n",
    "# from scipy.optimize import curve_fit\n",
    "\n",
    "projectPath = 'X:/RIXS/Asmara'\n",
    "baseAtom = 'O'\n",
    "energyDispersion = 0.00535 #eV/subpixel"
   ]
  },
  {
   "cell_type": "code",
   "execution_count": null,
   "metadata": {},
   "outputs": [],
   "source": [
    "def get_xas(scanNumber):\n",
    "    global projectPath\n",
    "    global baseAtom\n",
    "    \n",
    "    if scanNumber < 10:\n",
    "        filename = baseAtom+'_'+'000'+str(scanNumber)\n",
    "    elif scanNumber < 100:\n",
    "        filename = baseAtom+'_'+'00'+str(scanNumber)\n",
    "    elif scanNumber < 1000:    \n",
    "        filename = baseAtom+'_'+'0'+str(scanNumber)\n",
    "    else:    \n",
    "        filename = baseAtom+'_'+str(scanNumber)\n",
    "\n",
    "    data = loadtxt(projectPath+'/XAS/'+filename+'.xas', comments='#')\n",
    "\n",
    "    photonEnergy = data[:,0]\n",
    "    tey = data[:,1]\n",
    "    tfy = data[:,2]\n",
    "    rmu = data[:,3]\n",
    "    \n",
    "    return photonEnergy,tey,tfy,rmu\n",
    "\n",
    "def elastic_shift(pixelData,zeroType,peakHeight,peakWidth):\n",
    "\n",
    "    global energyDispersion\n",
    "    if zeroType == \"peak\":\n",
    "        peaks, _ = find_peaks(pixelData,height=peakHeight,width=peakWidth)\n",
    "    elif zeroType == \"height\":\n",
    "        peaks, _ = pixelData[(pixelData>peakHeight)]\n",
    "    else:\n",
    "        peaks = pixelData\n",
    "    xdataPixel = arange(len(pixelData))\n",
    "    \n",
    "    xdataPixel = xdataPixel[(peaks[-1]-2000):(peaks[-1]+200)]\n",
    "    energyData = pixelData[(peaks[-1]-2000):(peaks[-1]+200)]\n",
    "    \n",
    "    xDataEnergy = (xdataPixel - peaks[-1]) * energyDispersion * -1\n",
    "\n",
    "    return xDataEnergy,energyData\n",
    "\n",
    "def x_corr(refData, uncorrData):\n",
    "\n",
    "    corr = correlate(refData, uncorrData)\n",
    "    lag = argmax(corr)\n",
    "    corrData = roll(uncorrData, lag)\n",
    "\n",
    "    return corrData\n",
    "\n",
    "def get_rixs(scanNumber,zeroType='peak',peakHeight=10,peakWidth=3):\n",
    "    global projectPath\n",
    "    global baseAtom\n",
    "    \n",
    "    if scanNumber < 10:\n",
    "        filename = baseAtom+'_'+'000'+str(scanNumber)\n",
    "    elif scanNumber < 100:\n",
    "        filename = baseAtom+'_'+'00'+str(scanNumber)\n",
    "    elif scanNumber < 1000:    \n",
    "        filename = baseAtom+'_'+'0'+str(scanNumber)\n",
    "    else:    \n",
    "        filename = baseAtom+'_'+str(scanNumber)\n",
    "\n",
    "    f1 = h5py.File(projectPath+'/RIXS/'+filename+'_d1.h5', 'r')\n",
    "    f2 = h5py.File(projectPath+'/RIXS/'+filename+'_d2.h5', 'r')\n",
    "    f3 = h5py.File(projectPath+'/RIXS/'+filename+'_d3.h5', 'r')\n",
    "\n",
    "    ccd1 = array(f1['entry']['analysis']['spectrum'][()])\n",
    "    ccd2 = array(f2['entry']['analysis']['spectrum'][()])\n",
    "    ccd3 = array(f3['entry']['analysis']['spectrum'][()])\n",
    "    \n",
    "    ccd1 = x_corr(ccd2,ccd1)\n",
    "    ccd3 = x_corr(ccd2,ccd3)\n",
    "    xdata,tempData = elastic_shift(ccd1+ccd2+ccd3,zeroType,peakHeight,peakWidth)\n",
    "    \n",
    "    return xdata,tempData\n",
    "\n",
    "def get_scan(scans,zeroType='peak',peakHeight=10,peakWidth=3):\n",
    "    for i,scanNumber in enumerate(scans):\n",
    "        if i == 0:\n",
    "            xdata,ydata = get_rixs(scanNumber,zeroType=zeroType,peakHeight=peakHeight,peakWidth=peakWidth)\n",
    "            refdata = ydata\n",
    "            sumdata = ydata\n",
    "        else:\n",
    "            _,ydata = get_rixs(scanNumber,zeroType=zeroType,peakHeight=peakHeight)\n",
    "            ydata = x_corr(refdata,ydata)\n",
    "            sumdata = sumdata+ydata\n",
    "    return xdata,sumdata\n"
   ]
  },
  {
   "cell_type": "code",
   "execution_count": null,
   "metadata": {},
   "outputs": [],
   "source": [
    "fig = figure()\n",
    "E,TEY,TFY,RMU=get_xas(105)\n",
    "plot(E,TEY);"
   ]
  },
  {
   "cell_type": "code",
   "execution_count": null,
   "metadata": {
    "scrolled": false
   },
   "outputs": [],
   "source": [
    "fig = figure()\n",
    "X,Y=get_rixs(105)\n",
    "plot(X,Y);"
   ]
  },
  {
   "cell_type": "code",
   "execution_count": null,
   "metadata": {},
   "outputs": [],
   "source": [
    "fig = figure()\n",
    "X,Y=get_scan([105,106])\n",
    "plot(X,Y);"
   ]
  }
 ],
 "metadata": {
  "kernelspec": {
   "display_name": "Python 3",
   "language": "python",
   "name": "python3"
  },
  "language_info": {
   "codemirror_mode": {
    "name": "ipython",
    "version": 3
   },
   "file_extension": ".py",
   "mimetype": "text/x-python",
   "name": "python",
   "nbconvert_exporter": "python",
   "pygments_lexer": "ipython3",
   "version": "3.6.4"
  }
 },
 "nbformat": 4,
 "nbformat_minor": 2
}
