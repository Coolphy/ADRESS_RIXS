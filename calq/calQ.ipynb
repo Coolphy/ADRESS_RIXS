{
 "cells": [
  {
   "cell_type": "code",
   "execution_count": 1,
   "metadata": {},
   "outputs": [],
   "source": [
    "import math\n",
    "import numpy as np\n",
    "\n",
    "def EtoQ(energy):\n",
    "    qvalue = energy / 1973\n",
    "    return qvalue\n",
    "\n",
    "\n",
    "def qTrans(energy, twoTheta):\n",
    "    qTrans = EtoQ(energy) * math.sin(twoTheta / 180 * math.pi / 2) * 2\n",
    "    return qTrans\n",
    "\n",
    "\n",
    "def adressTheta(theta, twoTheta):\n",
    "    alpha = twoTheta - theta\n",
    "    return alpha\n",
    "\n",
    "\n",
    "def calVolume(a, b, c, alpha, beta, gamma):\n",
    "\n",
    "    Volume = (\n",
    "        a\n",
    "        * b\n",
    "        * c\n",
    "        * math.sqrt(\n",
    "            1\n",
    "            - math.cos(alpha / 180 * math.pi) * math.cos(alpha / 180 * math.pi)\n",
    "            - math.cos(beta / 180 * math.pi) * math.cos(beta / 180 * math.pi)\n",
    "            - math.cos(gamma / 180 * math.pi) * math.cos(gamma / 180 * math.pi)\n",
    "            + 2\n",
    "            * math.cos(alpha / 180 * math.pi)\n",
    "            * math.cos(beta / 180 * math.pi)\n",
    "            * math.cos(gamma / 180 * math.pi)\n",
    "        )\n",
    "    )\n",
    "    return Volume\n",
    "\n",
    "\n",
    "def invertedframe(latticeConstant):\n",
    "    [a, b, c, alpha, beta, gamma] = latticeConstant\n",
    "    Vol = calVolume(a, b, c, alpha, beta, gamma)\n",
    "    ar = 2 * math.pi * b * c * math.sin(alpha / 180 * math.pi) / Vol\n",
    "    br = 2 * math.pi * c * a * math.sin(beta / 180 * math.pi) / Vol\n",
    "    cr = 2 * math.pi * a * b * math.sin(gamma / 180 * math.pi) / Vol\n",
    "\n",
    "    return ar, br, cr\n",
    "\n",
    "\n",
    "def thToq(energy, twoTheta, alpha):\n",
    "    qParallel = qTrans(energy, twoTheta) * math.cos(\n",
    "        (alpha + (180 - twoTheta) / 2) / 180 * math.pi\n",
    "    )\n",
    "    qPerpendicular = qTrans(energy, twoTheta) * math.sin(\n",
    "        (alpha + (180 - twoTheta) / 2) / 180 * math.pi\n",
    "    )\n",
    "    return qParallel, qPerpendicular\n",
    "\n",
    "\n",
    "def qInToth(energy, twoTheta, qIn):\n",
    "\n",
    "    alpha = (\n",
    "        math.acos(qIn / qTrans(energy, twoTheta)) / math.pi * 180 - (180 - twoTheta) / 2\n",
    "    )\n",
    "    return alpha\n",
    "\n",
    "\n",
    "def vectorSum(a, b, gamma):\n",
    "    sum = math.sqrt(a * a + b * b - 2 * a * b * math.cos((180 - gamma) / 180 * math.pi))\n",
    "    return sum"
   ]
  },
  {
   "cell_type": "code",
   "execution_count": 2,
   "metadata": {},
   "outputs": [],
   "source": [
    "twoTheta = 130\n",
    "energy = 708\n",
    "\n",
    "lattice = [4.985, 4.985, 4.049, 90, 90, 120]\n",
    "ar, br, cr = invertedframe(lattice)"
   ]
  },
  {
   "cell_type": "code",
   "execution_count": 3,
   "metadata": {},
   "outputs": [
    {
     "name": "stdout",
     "output_type": "stream",
     "text": [
      "2.7365832324535487e-17\n",
      "0.4191599578354105\n"
     ]
    }
   ],
   "source": [
    "# alpha = 10\n",
    "# qIn, qOut = project(energy, twoTheta, alpha)\n",
    "\n",
    "theta = 65\n",
    "qIn, qOut = thToq(energy, twoTheta, adressTheta(theta, twoTheta))\n",
    "\n",
    "# (1,0)\n",
    "q = qIn / ar\n",
    "print(q)\n",
    "\n",
    "# (1,1)\n",
    "# q = qIn / vectorSum(ar, br, (180 - lattice[5]))\n",
    "# print(q)\n",
    "\n",
    "# (0,0,1)\n",
    "q = qOut / cr\n",
    "print(q)\n",
    "\n",
    "#(H,K)"
   ]
  },
  {
   "cell_type": "code",
   "execution_count": 20,
   "metadata": {},
   "outputs": [
    {
     "name": "stdout",
     "output_type": "stream",
     "text": [
      "95.73225500969838\n",
      "91.26747893113989\n",
      "115.75827177944413\n"
     ]
    }
   ],
   "source": [
    "# qIn = 1\n",
    "# alpha = qInToth(energy, twoTheta, qIn)\n",
    "\n",
    "#(1,0)\n",
    "q=0.4\n",
    "qIn = q*ar\n",
    "theta = adressTheta(qInToth(energy, twoTheta, qIn), twoTheta)\n",
    "print(theta)\n",
    "\n",
    "#(1,1)\n",
    "# q=0.2\n",
    "# qIn = vectorSum(ar,br,(180 - lattice[5])) * q\n",
    "# theta = adressTheta(qInToth(energy, twoTheta, qIn), twoTheta)\n",
    "# print(theta)\n",
    "\n",
    "#(H,K)\n",
    "q=[0.35,0.35]\n",
    "qIn = vectorSum(ar*q[0],br*q[1],(180 - lattice[5]))\n",
    "theta = adressTheta(qInToth(energy, twoTheta, qIn), twoTheta)\n",
    "print(theta)"
   ]
  },
  {
   "cell_type": "code",
   "execution_count": 4,
   "metadata": {},
   "outputs": [
    {
     "name": "stdout",
     "output_type": "stream",
     "text": [
      "0.0 \t0\t 65.0 \n",
      "\n",
      "0.02 \t0\t 66.872 \n",
      "\n",
      "0.04 \t0\t 68.747 \n",
      "\n",
      "0.06 \t0\t 70.625 \n",
      "\n",
      "0.08 \t0\t 72.51 \n",
      "\n",
      "0.1 \t0\t 74.403 \n",
      "\n",
      "0.12 \t0\t 76.306 \n",
      "\n",
      "0.14 \t0\t 78.222 \n",
      "\n",
      "0.16 \t0\t 80.153 \n",
      "\n",
      "0.18 \t0\t 82.102 \n",
      "\n",
      "0.2 \t0\t 84.071 \n",
      "\n",
      "0.22 \t0\t 86.064 \n",
      "\n",
      "0.24 \t0\t 88.085 \n",
      "\n",
      "0.26 \t0\t 90.136 \n",
      "\n",
      "0.28 \t0\t 92.222 \n",
      "\n",
      "0.3 \t0\t 94.348 \n",
      "\n"
     ]
    }
   ],
   "source": [
    "# (1,0)\n",
    "\n",
    "for q in np.arange(0,0.32,0.02):\n",
    "    qIn = q*ar\n",
    "    theta = adressTheta(qInToth(energy, twoTheta, qIn), twoTheta)\n",
    "    print(np.round(q,3),'\\t0\\t',np.round(theta,3),'\\n')"
   ]
  },
  {
   "cell_type": "code",
   "execution_count": 12,
   "metadata": {},
   "outputs": [
    {
     "name": "stdout",
     "output_type": "stream",
     "text": [
      "-0.45 0 16.378\n",
      "-0.4 0 22.895\n",
      "-0.35 0 28.823999999999998\n",
      "-0.3 0 34.352000000000004\n",
      "-0.25 0 39.594\n",
      "-0.2 0 44.629000000000005\n",
      "-0.15 0 49.515\n",
      "-0.1 0 54.297000000000004\n",
      "-0.05 0 59.015\n",
      "-0.0 0 63.7\n",
      "0.05 0 68.385\n",
      "0.1 0 73.10300000000001\n",
      "0.15 0 77.885\n",
      "0.2 0 82.771\n",
      "0.25 0 87.806\n",
      "0.3 0 93.048\n",
      "0.35 0 98.57600000000001\n",
      "0.4 0 104.50500000000001\n",
      "0.45 0 111.022\n"
     ]
    }
   ],
   "source": [
    "## (1,1)\n",
    "\n",
    "for q in np.arange(-0.45,0.45+0.01,0.05):\n",
    "    qIn = q*ar\n",
    "    theta = adressTheta(qInToth(energy, twoTheta, qIn), twoTheta)\n",
    "    print(np.round(q,3),0,np.round(theta,3)-1.3)"
   ]
  },
  {
   "cell_type": "code",
   "execution_count": null,
   "metadata": {},
   "outputs": [],
   "source": [
    "import pandas as pd\n",
    "\n",
    "df1 = pd.DataFrame(columns=['H','K','Theta'])"
   ]
  }
 ],
 "metadata": {
  "kernelspec": {
   "display_name": "Python 3.9.5 64-bit",
   "language": "python",
   "name": "python3"
  },
  "language_info": {
   "codemirror_mode": {
    "name": "ipython",
    "version": 3
   },
   "file_extension": ".py",
   "mimetype": "text/x-python",
   "name": "python",
   "nbconvert_exporter": "python",
   "pygments_lexer": "ipython3",
   "version": "3.9.5"
  },
  "orig_nbformat": 4,
  "vscode": {
   "interpreter": {
    "hash": "11938c6bc6919ae2720b4d5011047913343b08a43b18698fd82dedb0d4417594"
   }
  }
 },
 "nbformat": 4,
 "nbformat_minor": 2
}
