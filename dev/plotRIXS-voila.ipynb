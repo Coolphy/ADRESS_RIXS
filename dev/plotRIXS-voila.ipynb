{
 "cells": [
  {
   "cell_type": "code",
   "execution_count": 41,
   "metadata": {},
   "outputs": [],
   "source": [
    "%matplotlib widget\n",
    "\n",
    "import h5py\n",
    "import numpy as np\n",
    "import matplotlib.pyplot as plt\n",
    "from scipy import signal\n",
    "\n",
    "def get_xas(scanNumber):\n",
    "    global projectPath\n",
    "    global baseAtom\n",
    "    if scanNumber < 10:\n",
    "        filename = baseAtom+'_'+'000'+str(scanNumber)\n",
    "    elif scanNumber < 100:\n",
    "        filename = baseAtom+'_'+'00'+str(scanNumber)\n",
    "    elif scanNumber < 1000:    \n",
    "        filename = baseAtom+'_'+'0'+str(scanNumber)\n",
    "    else:    \n",
    "        filename = baseAtom+'_'+str(scanNumber)\n",
    "    data = np.loadtxt(projectPath+'\\\\XAS\\\\'+filename+'.xas', comments='#')\n",
    "    photonEnergy = data[:,0]\n",
    "    tey = data[:,1]\n",
    "    tfy = data[:,2]\n",
    "    rmu = data[:,3]\n",
    "    return photonEnergy,tey,tfy,rmu\n",
    "\n",
    "def elastic_shift(pixelData):\n",
    "    global energyDispersion\n",
    "    peaks, _ = signal.find_peaks(pixelData,height=(np.max(pixelData)/10 if np.max(pixelData)/10>10 else 10),width=3)\n",
    "    xdataPixel = np.arange(len(pixelData))\n",
    "    xdataPixel = xdataPixel[(peaks[-1]-2000):(peaks[-1]+200)]\n",
    "    energyData = pixelData[(peaks[-1]-2000):(peaks[-1]+200)]\n",
    "    xDataEnergy = (xdataPixel - peaks[-1]) * energyDispersion * -1\n",
    "    return xDataEnergy,energyData\n",
    "\n",
    "def x_corr(refData, uncorrData):\n",
    "    corr = signal.correlate(refData, uncorrData)\n",
    "    lag = np.argmax(corr)\n",
    "    corrData = np.roll(uncorrData, lag)\n",
    "    return corrData\n",
    "\n",
    "def get_rixs(scannumber):\n",
    "    global projectPath\n",
    "    global baseAtom\n",
    "    if scannumber < 10:\n",
    "        filename = baseAtom+'_'+'000'+str(scannumber)\n",
    "    elif scannumber < 100:\n",
    "        filename = baseAtom+'_'+'00'+str(scannumber)\n",
    "    elif scannumber < 1000:    \n",
    "        filename = baseAtom+'_'+'0'+str(scannumber)\n",
    "    else:    \n",
    "        filename = baseAtom+'_'+str(scannumber)\n",
    "    f1 = h5py.File(projectPath+'\\\\RIXS\\\\'+filename+'_d1.h5', 'r')\n",
    "    f2 = h5py.File(projectPath+'\\\\RIXS\\\\'+filename+'_d2.h5', 'r')\n",
    "    f3 = h5py.File(projectPath+'\\\\RIXS\\\\'+filename+'_d3.h5', 'r')\n",
    "    ccd1 = np.array(f1['entry']['analysis']['spectrum'][()])\n",
    "    ccd2 = np.array(f2['entry']['analysis']['spectrum'][()])\n",
    "    ccd3 = np.array(f3['entry']['analysis']['spectrum'][()])\n",
    "    ccd1 = x_corr(ccd2,ccd1)\n",
    "    ccd3 = x_corr(ccd2,ccd3)\n",
    "    xdata,tempData = elastic_shift(ccd1+ccd2+ccd3)\n",
    "    return xdata,tempData\n",
    "\n",
    "def get_scan(scans):\n",
    "    for i,scannumber in enumerate(scans):\n",
    "        if i == 0:\n",
    "            xdata,ydata = get_rixs(scannumber)\n",
    "            refdata = ydata\n",
    "            sumdata = ydata\n",
    "        else:\n",
    "            _,ydata = get_rixs(scannumber)\n",
    "            ydata = x_corr(refdata,ydata)\n",
    "            sumdata = sumdata+ydata\n",
    "    return xdata,sumdata"
   ]
  },
  {
   "cell_type": "code",
   "execution_count": 12,
   "metadata": {},
   "outputs": [],
   "source": [
    "def plot_xas(scans,dataType):\n",
    "    for x in scans:\n",
    "        E,TEY,TFY,RMU = get_xas(x)\n",
    "        if dataType == 'TEY':\n",
    "            plt.plot(E,TEY,label='TEY : '+str(x))\n",
    "        else:\n",
    "            plt.plot(E,TFY,label='TFY : '+str(x))\n",
    "        plt.xlabel('Photon Energy ( eV )')\n",
    "        plt.ylabel('Intensity ( arb. unit )')\n",
    "\n",
    "def plot_rixs(scans):\n",
    "    X,Y = get_scan(scans)\n",
    "    plt.plot(X,Y,label = 'RIXS : '+str(scans[0])+'-'+str(scans[-1]))\n",
    "    plt.xlabel('Energy Loss ( eV )')\n",
    "    plt.ylabel('Intensity ( arb. unit )')\n",
    "\n",
    "def do_plot(fileType,start,end):\n",
    "    scans = lambda start,end : np.arange(start,end+1,1)\n",
    "    if fileType == 'TEY':\n",
    "        plot_xas(scans(start,end),'TEY')\n",
    "    elif fileType == 'TFY':\n",
    "        plot_xas(scans(start,end),'TFY')\n",
    "    else:\n",
    "        plot_rixs(scans(start,end))\n",
    "    plt.legend()"
   ]
  },
  {
   "cell_type": "code",
   "execution_count": 3,
   "metadata": {},
   "outputs": [],
   "source": [
    "import ipywidgets as widgets\n",
    "import ipympl\n",
    "from IPython.display import clear_output\n",
    "import os"
   ]
  },
  {
   "cell_type": "code",
   "execution_count": 15,
   "metadata": {},
   "outputs": [
    {
     "data": {
      "application/vnd.jupyter.widget-view+json": {
       "model_id": "5c367767705f4821b8eb525976bc4b73",
       "version_major": 2,
       "version_minor": 0
      },
      "text/plain": [
       "Text(value='X:\\\\\\\\RIXS\\\\\\\\Asmara', description='Project Path:', placeholder='Parent Path')"
      ]
     },
     "metadata": {},
     "output_type": "display_data"
    }
   ],
   "source": [
    "path = widgets.Text(\n",
    "    value=r'X:\\\\RIXS\\\\Asmara',\n",
    "    placeholder='Parent Path',\n",
    "    description='Project Path:',\n",
    "    disabled=False\n",
    ")\n",
    "display(path)"
   ]
  },
  {
   "cell_type": "code",
   "execution_count": 16,
   "metadata": {},
   "outputs": [
    {
     "data": {
      "application/vnd.jupyter.widget-view+json": {
       "model_id": "9928179deedb4fce8c90f190761ffaed",
       "version_major": 2,
       "version_minor": 0
      },
      "text/plain": [
       "Text(value='O', description='Prefix:', placeholder='Element')"
      ]
     },
     "metadata": {},
     "output_type": "display_data"
    }
   ],
   "source": [
    "base = widgets.Text(\n",
    "    value='O',\n",
    "    placeholder='Element',\n",
    "    description='Prefix:',\n",
    "    disabled=False\n",
    ")\n",
    "display(base)"
   ]
  },
  {
   "cell_type": "code",
   "execution_count": 17,
   "metadata": {},
   "outputs": [
    {
     "data": {
      "application/vnd.jupyter.widget-view+json": {
       "model_id": "429072dbce3d483e9be282389a7c59ad",
       "version_major": 2,
       "version_minor": 0
      },
      "text/plain": [
       "FloatText(value=1.0, description='Dispersion:')"
      ]
     },
     "metadata": {},
     "output_type": "display_data"
    }
   ],
   "source": [
    "dispersion = widgets.FloatText(\n",
    "    value='1',\n",
    "    placeholder='eV/subpixel',\n",
    "    description='Dispersion:',\n",
    "    disabled=False\n",
    ")\n",
    "display(dispersion)"
   ]
  },
  {
   "cell_type": "code",
   "execution_count": 18,
   "metadata": {},
   "outputs": [
    {
     "data": {
      "application/vnd.jupyter.widget-view+json": {
       "model_id": "2a0592aee7a34ccdab5e1b265e3c2c56",
       "version_major": 2,
       "version_minor": 0
      },
      "text/plain": [
       "Dropdown(description='Data Type:', options=('RIXS', 'TEY', 'TFY'), value='RIXS')"
      ]
     },
     "metadata": {},
     "output_type": "display_data"
    }
   ],
   "source": [
    "file = widgets.Dropdown(\n",
    "    options=['RIXS','TEY','TFY'],\n",
    "    value='RIXS',\n",
    "    description='Data Type:',\n",
    "    disabled=False,\n",
    ")\n",
    "display(file)"
   ]
  },
  {
   "cell_type": "code",
   "execution_count": 42,
   "metadata": {},
   "outputs": [
    {
     "data": {
      "application/vnd.jupyter.widget-view+json": {
       "model_id": "b78311d95342441292c6e1b713afdc5e",
       "version_major": 2,
       "version_minor": 0
      },
      "text/plain": [
       "IntRangeSlider(value=(10, 100), continuous_update=False, description='Scan:')"
      ]
     },
     "metadata": {},
     "output_type": "display_data"
    }
   ],
   "source": [
    "scan = widgets.IntRangeSlider(\n",
    "    value=[10, 20],\n",
    "    min=0,\n",
    "    max=30,\n",
    "    step=1,\n",
    "    description='Scan:',\n",
    "    disabled=False,\n",
    "    continuous_update=False,\n",
    "    orientation='horizontal',\n",
    "    readout=True,\n",
    "    readout_format='d',\n",
    ")\n",
    "display(scan)\n",
    "\n",
    "def on_value_change(change):\n",
    "    scan.min = (np.round(scan.value[0] * 2 - scan.value[1]  - 10 ) if np.round(scan.value[0] * 2 - scan.value[1] - 10 ) > 0 else 0)\n",
    "    scan.max = (np.round(scan.value[1] * 2 - scan.value[0]  + 10 ) if np.round(scan.value[1] * 2 - scan.value[0] + 10 ) < 9999 else 9999)\n",
    "\n",
    "scan.observe(on_value_change, names='value')"
   ]
  },
  {
   "cell_type": "code",
   "execution_count": 9,
   "metadata": {},
   "outputs": [
    {
     "data": {
      "application/vnd.jupyter.widget-view+json": {
       "model_id": "381880fb3a13472fbae7df367949de2b",
       "version_major": 2,
       "version_minor": 0
      },
      "text/plain": [
       "Checkbox(value=False, description='Compare', indent=False)"
      ]
     },
     "metadata": {},
     "output_type": "display_data"
    }
   ],
   "source": [
    "compare = widgets.Checkbox(\n",
    "    value=False,\n",
    "    description='Compare',\n",
    "    disabled=False,\n",
    "    indent=False\n",
    ")\n",
    "display(compare)"
   ]
  },
  {
   "cell_type": "code",
   "execution_count": null,
   "metadata": {
    "scrolled": false
   },
   "outputs": [],
   "source": [
    "plot = widgets.Button(description=\"Plot\")\n",
    "output = widgets.Output()\n",
    "display(plot,output)\n",
    "plt.figure()\n",
    "\n",
    "def on_button_clicked(b):\n",
    "#     with output:\n",
    "    global projectPath,baseAtom,energyDispersion\n",
    "    projectPath = path.value\n",
    "    baseAtom = base.value\n",
    "    energyDispersion = dispersion.value\n",
    "    fileType = file.value\n",
    "    start = scan.value[0]\n",
    "    end = scan.value[1]\n",
    "    compareType = compare.value\n",
    "    if compareType == True:\n",
    "        pass\n",
    "    else:\n",
    "        plt.clf()\n",
    "    do_plot(fileType,start,end)\n",
    "\n",
    "\n",
    "plot.on_click(on_button_clicked)"
   ]
  },
  {
   "cell_type": "code",
   "execution_count": null,
   "metadata": {},
   "outputs": [],
   "source": []
  }
 ],
 "metadata": {
  "kernelspec": {
   "display_name": "Python 3 (ipykernel)",
   "language": "python",
   "name": "python3"
  },
  "language_info": {
   "codemirror_mode": {
    "name": "ipython",
    "version": 3
   },
   "file_extension": ".py",
   "mimetype": "text/x-python",
   "name": "python",
   "nbconvert_exporter": "python",
   "pygments_lexer": "ipython3",
   "version": "3.9.5"
  }
 },
 "nbformat": 4,
 "nbformat_minor": 2
}
