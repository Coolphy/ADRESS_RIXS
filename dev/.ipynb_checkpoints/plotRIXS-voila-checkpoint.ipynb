{
 "cells": [
  {
   "cell_type": "code",
   "execution_count": 1,
   "metadata": {},
   "outputs": [],
   "source": [
    "%matplotlib widget\n",
    "\n",
    "import h5py\n",
    "import numpy as np\n",
    "import matplotlib.pyplot as plt\n",
    "from scipy import optimize\n",
    "from scipy import signal\n",
    "from scipy import interpolate\n",
    "\n",
    "def get_xas(scanNumber):\n",
    "    global projectPath\n",
    "    global baseAtom\n",
    "    if scanNumber < 10:\n",
    "        filename = baseAtom+'_'+'000'+str(scanNumber)\n",
    "    elif scanNumber < 100:\n",
    "        filename = baseAtom+'_'+'00'+str(scanNumber)\n",
    "    elif scanNumber < 1000:    \n",
    "        filename = baseAtom+'_'+'0'+str(scanNumber)\n",
    "    else:    \n",
    "        filename = baseAtom+'_'+str(scanNumber)\n",
    "    data = np.loadtxt(projectPath+'\\\\XAS\\\\'+filename+'.xas', comments='#')\n",
    "    photonEnergy = data[:,0]\n",
    "    tey = data[:,1]\n",
    "    tfy = data[:,2]\n",
    "    rmu = data[:,3]\n",
    "    return photonEnergy,tey,tfy,rmu\n"
   ]
  },
  {
   "cell_type": "code",
   "execution_count": 19,
   "metadata": {},
   "outputs": [],
   "source": [
    "refElasticPixel = 5200\n",
    "\n",
    "def make_filename(scanNumber):\n",
    "    global baseAtom\n",
    "    if scanNumber < 10:\n",
    "        fileName = baseAtom + \"_\" + \"000\" + str(scanNumber)\n",
    "    elif scanNumber < 100:\n",
    "        fileName = baseAtom + \"_\" + \"00\" + str(scanNumber)\n",
    "    elif scanNumber < 1000:\n",
    "        fileName = baseAtom + \"_\" + \"0\" + str(scanNumber)\n",
    "    else:\n",
    "        fileName = baseAtom + \"_\" + str(scanNumber)\n",
    "    return fileName\n",
    "\n",
    "def gaussian_amp(x,xc,fwhm,amp):\n",
    "    return amp*np.exp(-4*np.log(2)*(x-xc)**2/(fwhm)**2)\n",
    "\n",
    "def elastic_shift(xAxis,uncorrData,zeroType,peakHeight,peakWidth):\n",
    "    global refElasticPixel\n",
    "    if zeroType == \"peak\":\n",
    "        peaks, properties = signal.find_peaks(\n",
    "            uncorrData, height=peakHeight, width=peakWidth\n",
    "        )\n",
    "        peakHeight = properties[\"peak_heights\"][-1]\n",
    "    elif zeroType == \"height\":\n",
    "        peaks = xAxis[(uncorrData>peakHeight)]\n",
    "        peakHeight = uncorrData[(uncorrData>peakHeight)][-1]\n",
    "    else:\n",
    "        peaks = xAxis\n",
    "        peakHeight = uncorrData[-1]\n",
    "    uncorrData= np.roll(uncorrData, refElasticPixel - peaks[-1])\n",
    "    popt, pcov = optimize.curve_fit(\n",
    "        gaussian_amp,\n",
    "        xAxis,\n",
    "        uncorrData,\n",
    "        p0=[refElasticPixel, 10, peakHeight],\n",
    "    )\n",
    "    corrData= np.roll(uncorrData, refElasticPixel - round(popt[0]))[::-1]\n",
    "    corrAxis = np.array(popt[0]-round(popt[0]) + refElasticPixel - xAxis)[::-1]\n",
    "    return corrAxis,corrData\n",
    "\n",
    "def corr_xaxis(refData, uncorrData):\n",
    "\n",
    "    xAxis = np.arange(len(refData))\n",
    "    xAxisNew = np.arange(0,len(refData)-1,0.1)\n",
    "    f1 = interpolate.interp1d(xAxis,refData,kind='linear',fill_value=\"extrapolate\")\n",
    "    f2 = interpolate.interp1d(xAxis,uncorrData,kind='linear',fill_value=\"extrapolate\")\n",
    "\n",
    "    refInt = f1(xAxisNew)\n",
    "    uncorrInt = f2(xAxisNew)\n",
    "\n",
    "    corr = signal.correlate(refInt, uncorrInt)  # consider full pattern\n",
    "    lags = signal.correlation_lags(len(refInt), len(uncorrInt))\n",
    "    lag = lags[np.argmax(corr)]\n",
    "\n",
    "    # elastic corr\n",
    "    uncorrInt = np.roll(uncorrInt, lag)\n",
    "    peaks, _ = signal.find_peaks(\n",
    "            refInt, height=10 , width=10\n",
    "    )\n",
    "    corr = signal.correlate(refInt[peaks[-1]-1000:peaks[-1]+500], uncorrInt[peaks[-1]-1000:peaks[-1]+500]) \n",
    "    lags = signal.correlation_lags(len(refInt[peaks[-1]-1000:peaks[-1]+500]), len(uncorrInt[peaks[-1]-1000:peaks[-1]+500]))\n",
    "    lag = lags[np.argmax(corr)]\n",
    "\n",
    "    corrInt = np.roll(uncorrInt, lag)\n",
    "\n",
    "    f3 = interpolate.interp1d(xAxisNew,corrInt,kind='linear',fill_value=\"extrapolate\")\n",
    "\n",
    "    corrData = f3(xAxis)\n",
    "    return corrData\n",
    "\n",
    "def trans_energy(rawData,zeroType,peakHeight,peakWidth):\n",
    "    global energyDispersion\n",
    "    pixel = np.arange(len(rawData))\n",
    "    pixelAxis,pixelData = elastic_shift(pixel,rawData,zeroType,peakHeight,peakWidth)\n",
    "    energyAxis = np.array(pixelAxis * energyDispersion)\n",
    "    return energyAxis,pixelData\n",
    "\n",
    "def get_data(scanNumber):\n",
    "    global projectPath\n",
    "    f1 = h5py.File(projectPath + \"\\\\RIXS\\\\\" + make_filename(scanNumber) + \"_d1.h5\", \"r\")\n",
    "    f2 = h5py.File(projectPath + \"\\\\RIXS\\\\\" + make_filename(scanNumber) + \"_d2.h5\", \"r\")\n",
    "    f3 = h5py.File(projectPath + \"\\\\RIXS\\\\\" + make_filename(scanNumber) + \"_d3.h5\", \"r\")\n",
    "    ccd1 = f1[\"entry\"][\"analysis\"][\"spectrum\"][()]\n",
    "    ccd2 = f2[\"entry\"][\"analysis\"][\"spectrum\"][()]\n",
    "    ccd3 = f3[\"entry\"][\"analysis\"][\"spectrum\"][()]\n",
    "    acqTime1 = np.mean(f1[\"entry\"][\"instrument\"][\"NDAttributes\"][\"AcquireTime\"][()])\n",
    "    acqTime2 = np.mean(f2[\"entry\"][\"instrument\"][\"NDAttributes\"][\"AcquireTime\"][()])\n",
    "    acqTime3 = np.mean(f3[\"entry\"][\"instrument\"][\"NDAttributes\"][\"AcquireTime\"][()])\n",
    "    ccd = (corr_xaxis(ccd2, ccd1) + ccd2 + corr_xaxis(ccd2, ccd3)) / 3\n",
    "    acqTime = (acqTime1 + acqTime2 + acqTime3) / 3\n",
    "    return ccd, acqTime\n",
    "\n",
    "\n",
    "def get_scan(scans,zeroType='peak',peakHeight=10,peakWidth=3):\n",
    "    refData, totalTime = get_data(scans[0])\n",
    "    data = refData\n",
    "    for x in scans[1:]:\n",
    "        tempData, oneTime = get_data(x)\n",
    "        data = data + corr_xaxis(refData, tempData)\n",
    "        totalTime = totalTime + oneTime\n",
    "    pixelData = data / totalTime * 300  # normalize to 5 minutes\n",
    "    energyAxis,energyData = trans_energy(pixelData,zeroType,peakHeight,peakWidth)\n",
    "    return [energyAxis,energyData]"
   ]
  },
  {
   "cell_type": "code",
   "execution_count": 3,
   "metadata": {},
   "outputs": [],
   "source": [
    "def plot_xas(scans,dataType):\n",
    "    for x in scans:\n",
    "        E,TEY,TFY,RMU = get_xas(x)\n",
    "        if dataType == 'TEY':\n",
    "            plt.plot(E,TEY,label='TEY : '+str(x))\n",
    "        else:\n",
    "            plt.plot(E,TFY,label='TFY : '+str(x))\n",
    "        plt.xlabel('Photon Energy ( eV )')\n",
    "        plt.ylabel('Intensity ( arb. unit )')\n",
    "\n",
    "def plot_rixs(scans):\n",
    "    X,Y = get_scan(scans)\n",
    "    plt.plot(X,Y,label = 'RIXS : '+str(scans[0])+'-'+str(scans[-1]))\n",
    "    plt.xlabel('Energy Loss ( eV )')\n",
    "    plt.ylabel('Intensity ( arb. unit )')\n",
    "\n",
    "def do_plot(fileType,scans):\n",
    "    if fileType == 'TEY':\n",
    "        plot_xas(scans,'TEY')\n",
    "    elif fileType == 'TFY':\n",
    "        plot_xas(scans,'TFY')\n",
    "    else:\n",
    "        plot_rixs(scans)\n",
    "    plt.legend()"
   ]
  },
  {
   "cell_type": "code",
   "execution_count": 4,
   "metadata": {},
   "outputs": [],
   "source": [
    "import ipywidgets as widgets\n",
    "import ipympl\n",
    "from IPython.display import clear_output"
   ]
  },
  {
   "cell_type": "code",
   "execution_count": 5,
   "metadata": {},
   "outputs": [
    {
     "data": {
      "application/vnd.jupyter.widget-view+json": {
       "model_id": "fa260bdfee26407f9ed1f0d216ef41d4",
       "version_major": 2,
       "version_minor": 0
      },
      "text/plain": [
       "Text(value='X:\\\\\\\\RIXS\\\\\\\\Asmara', description='Project Path:', placeholder='Parent Path')"
      ]
     },
     "metadata": {},
     "output_type": "display_data"
    }
   ],
   "source": [
    "path = widgets.Text(\n",
    "    value=r'X:\\\\RIXS\\\\Asmara',\n",
    "    placeholder='Parent Path',\n",
    "    description='Project Path:',\n",
    "    disabled=False\n",
    ")\n",
    "display(path)"
   ]
  },
  {
   "cell_type": "code",
   "execution_count": 6,
   "metadata": {},
   "outputs": [
    {
     "data": {
      "application/vnd.jupyter.widget-view+json": {
       "model_id": "99dfd6bd041b418aa75ebb75e7a73252",
       "version_major": 2,
       "version_minor": 0
      },
      "text/plain": [
       "Text(value='O', description='Prefix:', placeholder='Element')"
      ]
     },
     "metadata": {},
     "output_type": "display_data"
    }
   ],
   "source": [
    "base = widgets.Text(\n",
    "    value='O',\n",
    "    placeholder='Element',\n",
    "    description='Prefix:',\n",
    "    disabled=False\n",
    ")\n",
    "display(base)"
   ]
  },
  {
   "cell_type": "code",
   "execution_count": 7,
   "metadata": {},
   "outputs": [
    {
     "data": {
      "application/vnd.jupyter.widget-view+json": {
       "model_id": "278620c5708f4b22b0b6285c22e36280",
       "version_major": 2,
       "version_minor": 0
      },
      "text/plain": [
       "FloatText(value=1.0, description='Dispersion:')"
      ]
     },
     "metadata": {},
     "output_type": "display_data"
    }
   ],
   "source": [
    "dispersion = widgets.FloatText(\n",
    "    value='1',\n",
    "    description='Dispersion:',\n",
    "    disabled=False\n",
    ")\n",
    "display(dispersion)"
   ]
  },
  {
   "cell_type": "code",
   "execution_count": 8,
   "metadata": {},
   "outputs": [
    {
     "data": {
      "application/vnd.jupyter.widget-view+json": {
       "model_id": "82a38f0999fb4674bb7bcaa536a2d9be",
       "version_major": 2,
       "version_minor": 0
      },
      "text/plain": [
       "Dropdown(description='Data Type:', options=('RIXS', 'TEY', 'TFY'), value='RIXS')"
      ]
     },
     "metadata": {},
     "output_type": "display_data"
    }
   ],
   "source": [
    "file = widgets.Dropdown(\n",
    "    options=['RIXS','TEY','TFY'],\n",
    "    value='RIXS',\n",
    "    description='Data Type:',\n",
    "    disabled=False,\n",
    ")\n",
    "display(file)"
   ]
  },
  {
   "cell_type": "code",
   "execution_count": 13,
   "metadata": {},
   "outputs": [
    {
     "data": {
      "application/vnd.jupyter.widget-view+json": {
       "model_id": "f17be8090c3c4bd4aa957e48eb9630e5",
       "version_major": 2,
       "version_minor": 0
      },
      "text/plain": [
       "Text(value='1,2,3', description='Scan:', placeholder='1,2,3')"
      ]
     },
     "metadata": {},
     "output_type": "display_data"
    }
   ],
   "source": [
    "scan = widgets.Text(\n",
    "    value='1,2,3',\n",
    "    placeholder='1,2,3',\n",
    "    description='Scan:',\n",
    "    disabled=False\n",
    ")\n",
    "display(scan)"
   ]
  },
  {
   "cell_type": "code",
   "execution_count": 11,
   "metadata": {},
   "outputs": [
    {
     "data": {
      "application/vnd.jupyter.widget-view+json": {
       "model_id": "6152450a8fa14a0f991517d164a5e536",
       "version_major": 2,
       "version_minor": 0
      },
      "text/plain": [
       "Checkbox(value=False, description='Compare', indent=False)"
      ]
     },
     "metadata": {},
     "output_type": "display_data"
    }
   ],
   "source": [
    "compare = widgets.Checkbox(\n",
    "    value=False,\n",
    "    description='Compare',\n",
    "    disabled=False,\n",
    "    indent=False\n",
    ")\n",
    "display(compare)"
   ]
  },
  {
   "cell_type": "code",
   "execution_count": 18,
   "metadata": {
    "scrolled": false
   },
   "outputs": [
    {
     "data": {
      "application/vnd.jupyter.widget-view+json": {
       "model_id": "913e936b30df491f9eee90cbeea7cbe1",
       "version_major": 2,
       "version_minor": 0
      },
      "text/plain": [
       "Button(description='Plot', style=ButtonStyle())"
      ]
     },
     "metadata": {},
     "output_type": "display_data"
    },
    {
     "data": {
      "application/vnd.jupyter.widget-view+json": {
       "model_id": "3cc7eb8fcdbc435fb6facc9929c1842a",
       "version_major": 2,
       "version_minor": 0
      },
      "text/plain": [
       "Output()"
      ]
     },
     "metadata": {},
     "output_type": "display_data"
    },
    {
     "data": {
      "application/vnd.jupyter.widget-view+json": {
       "model_id": "ea72231e20f340bd8ba3118449a224b2",
       "version_major": 2,
       "version_minor": 0
      },
      "image/png": "[encoded data removed]",
      "text/html": [
       "\n",
       "            <div style=\"display: inline-block;\">\n",
       "                <div class=\"jupyter-widgets widget-label\" style=\"text-align: center;\">\n",
       "                    Figure\n",
       "                </div>\n",
       "                <img src='data:image/png;base64,iVBORw0KGgoAAAANSUhEUgAAAoAAAAHgCAYAAAA10dzkAAAAOXRFWHRTb2Z0d2FyZQBNYXRwbG90bGliIHZlcnNpb24zLjUuMSwgaHR0cHM6Ly9tYXRwbG90bGliLm9yZy/YYfK9AAAACXBIWXMAAA9hAAAPYQGoP6dpAAAIyUlEQVR4nO3WMQEAIAzAMMC/5+ECjiYKenbPzCwAADLO7wAAAN4ygAAAMQYQACDGAAIAxBhAAIAYAwgAEGMAAQBiDCAAQIwBBACIMYAAADEGEAAgxgACAMQYQACAGAMIABBjAAEAYgwgAECMAQQAiDGAAAAxBhAAIMYAAgDEGEAAgBgDCAAQYwABAGIMIABAjAEEAIgxgAAAMQYQACDGAAIAxBhAAIAYAwgAEGMAAQBiDCAAQIwBBACIMYAAADEGEAAgxgACAMQYQACAGAMIABBjAAEAYgwgAECMAQQAiDGAAAAxBhAAIMYAAgDEGEAAgBgDCAAQYwABAGIMIABAjAEEAIgxgAAAMQYQACDGAAIAxBhAAIAYAwgAEGMAAQBiDCAAQIwBBACIMYAAADEGEAAgxgACAMQYQACAGAMIABBjAAEAYgwgAECMAQQAiDGAAAAxBhAAIMYAAgDEGEAAgBgDCAAQYwABAGIMIABAjAEEAIgxgAAAMQYQACDGAAIAxBhAAIAYAwgAEGMAAQBiDCAAQIwBBACIMYAAADEGEAAgxgACAMQYQACAGAMIABBjAAEAYgwgAECMAQQAiDGAAAAxBhAAIMYAAgDEGEAAgBgDCAAQYwABAGIMIABAjAEEAIgxgAAAMQYQACDGAAIAxBhAAIAYAwgAEGMAAQBiDCAAQIwBBACIMYAAADEGEAAgxgACAMQYQACAGAMIABBjAAEAYgwgAECMAQQAiDGAAAAxBhAAIMYAAgDEGEAAgBgDCAAQYwABAGIMIABAjAEEAIgxgAAAMQYQACDGAAIAxBhAAIAYAwgAEGMAAQBiDCAAQIwBBACIMYAAADEGEAAgxgACAMQYQACAGAMIABBjAAEAYgwgAECMAQQAiDGAAAAxBhAAIMYAAgDEGEAAgBgDCAAQYwABAGIMIABAjAEEAIgxgAAAMQYQACDGAAIAxBhAAIAYAwgAEGMAAQBiDCAAQIwBBACIMYAAADEGEAAgxgACAMQYQACAGAMIABBjAAEAYgwgAECMAQQAiDGAAAAxBhAAIMYAAgDEGEAAgBgDCAAQYwABAGIMIABAjAEEAIgxgAAAMQYQACDGAAIAxBhAAIAYAwgAEGMAAQBiDCAAQIwBBACIMYAAADEGEAAgxgACAMQYQACAGAMIABBjAAEAYgwgAECMAQQAiDGAAAAxBhAAIMYAAgDEGEAAgBgDCAAQYwABAGIMIABAjAEEAIgxgAAAMQYQACDGAAIAxBhAAIAYAwgAEGMAAQBiDCAAQIwBBACIMYAAADEGEAAgxgACAMQYQACAGAMIABBjAAEAYgwgAECMAQQAiDGAAAAxBhAAIMYAAgDEGEAAgBgDCAAQYwABAGIMIABAjAEEAIgxgAAAMQYQACDGAAIAxBhAAIAYAwgAEGMAAQBiDCAAQIwBBACIMYAAADEGEAAgxgACAMQYQACAGAMIABBjAAEAYgwgAECMAQQAiDGAAAAxBhAAIMYAAgDEGEAAgBgDCAAQYwABAGIMIABAjAEEAIgxgAAAMQYQACDGAAIAxBhAAIAYAwgAEGMAAQBiDCAAQIwBBACIMYAAADEGEAAgxgACAMQYQACAGAMIABBjAAEAYgwgAECMAQQAiDGAAAAxBhAAIMYAAgDEGEAAgBgDCAAQYwABAGIMIABAjAEEAIgxgAAAMQYQACDGAAIAxBhAAIAYAwgAEGMAAQBiDCAAQIwBBACIMYAAADEGEAAgxgACAMQYQACAGAMIABBjAAEAYgwgAECMAQQAiDGAAAAxBhAAIMYAAgDEGEAAgBgDCAAQYwABAGIMIABAjAEEAIgxgAAAMQYQACDGAAIAxBhAAIAYAwgAEGMAAQBiDCAAQIwBBACIMYAAADEGEAAgxgACAMQYQACAGAMIABBjAAEAYgwgAECMAQQAiDGAAAAxBhAAIMYAAgDEGEAAgBgDCAAQYwABAGIMIABAjAEEAIgxgAAAMQYQACDGAAIAxBhAAIAYAwgAEGMAAQBiDCAAQIwBBACIMYAAADEGEAAgxgACAMQYQACAGAMIABBjAAEAYgwgAECMAQQAiDGAAAAxBhAAIMYAAgDEGEAAgBgDCAAQYwABAGIMIABAjAEEAIgxgAAAMQYQACDGAAIAxBhAAIAYAwgAEGMAAQBiDCAAQIwBBACIMYAAADEGEAAgxgACAMQYQACAGAMIABBjAAEAYgwgAECMAQQAiDGAAAAxBhAAIMYAAgDEGEAAgBgDCAAQYwABAGIMIABAjAEEAIgxgAAAMQYQACDGAAIAxBhAAIAYAwgAEGMAAQBiDCAAQIwBBACIMYAAADEGEAAgxgACAMQYQACAGAMIABBjAAEAYgwgAECMAQQAiDGAAAAxBhAAIMYAAgDEGEAAgBgDCAAQYwABAGIMIABAjAEEAIgxgAAAMQYQACDGAAIAxBhAAIAYAwgAEGMAAQBiDCAAQIwBBACIMYAAADEGEAAgxgACAMQYQACAGAMIABBjAAEAYgwgAECMAQQAiDGAAAAxBhAAIMYAAgDEGEAAgBgDCAAQYwABAGIMIABAjAEEAIgxgAAAMQYQACDGAAIAxBhAAIAYAwgAEGMAAQBiDCAAQIwBBACIMYAAADEGEAAgxgACAMQYQACAGAMIABBjAAEAYgwgAECMAQQAiDGAAAAxBhAAIMYAAgDEGEAAgBgDCAAQYwABAGIMIABAjAEEAIgxgAAAMQYQACDGAAIAxBhAAIAYAwgAEGMAAQBiDCAAQIwBBACIMYAAADEGEAAgxgACAMQYQACAGAMIABBjAAEAYgwgAECMAQQAiDGAAAAxBhAAIMYAAgDEGEAAgBgDCAAQYwABAGIMIABAjAEEAIgxgAAAMQYQACDGAAIAxBhAAIAYAwgAEGMAAQBiDCAAQIwBBACIMYAAADEGEAAgxgACAMQYQACAGAMIABBjAAEAYgwgAECMAQQAiDGAAAAxBhAAIMYAAgDEGEAAgBgDCAAQYwABAGIuJnkHvKensmIAAAAASUVORK5CYII=' width=640.0/>\n",
       "            </div>\n",
       "        "
      ],
      "text/plain": [
       "Canvas(toolbar=Toolbar(toolitems=[('Home', 'Reset original view', 'home', 'home'), ('Back', 'Back to previous …"
      ]
     },
     "metadata": {},
     "output_type": "display_data"
    }
   ],
   "source": [
    "plot = widgets.Button(description=\"Plot\")\n",
    "output = widgets.Output()\n",
    "display(plot,output)\n",
    "plt.figure()\n",
    "\n",
    "def on_button_clicked(b):\n",
    "    with output:\n",
    "        global projectPath,baseAtom,energyDispersion\n",
    "        projectPath = path.value\n",
    "        baseAtom = base.value\n",
    "        energyDispersion = dispersion.value\n",
    "        fileType = file.value\n",
    "        scans = tuple(map(int,scan.value.split(',')))\n",
    "        compareType = compare.value\n",
    "        if compareType == True:\n",
    "            pass\n",
    "        else:\n",
    "            plt.clf()\n",
    "        do_plot(fileType,scans)\n",
    "\n",
    "\n",
    "plot.on_click(on_button_clicked)"
   ]
  },
  {
   "cell_type": "code",
   "execution_count": null,
   "metadata": {},
   "outputs": [],
   "source": []
  }
 ],
 "metadata": {
  "kernelspec": {
   "display_name": "Python 3 (ipykernel)",
   "language": "python",
   "name": "python3"
  },
  "language_info": {
   "codemirror_mode": {
    "name": "ipython",
    "version": 3
   },
   "file_extension": ".py",
   "mimetype": "text/x-python",
   "name": "python",
   "nbconvert_exporter": "python",
   "pygments_lexer": "ipython3",
   "version": "3.9.5"
  }
 },
 "nbformat": 4,
 "nbformat_minor": 2
}
