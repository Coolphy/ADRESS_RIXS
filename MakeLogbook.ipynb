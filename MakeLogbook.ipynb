{
 "cells": [
  {
   "cell_type": "code",
   "execution_count": null,
   "metadata": {},
   "outputs": [],
   "source": [
    "import os\n",
    "import h5py\n",
    "import numpy as np\n",
    "import csv"
   ]
  },
  {
   "cell_type": "code",
   "execution_count": null,
   "metadata": {},
   "outputs": [],
   "source": [
    "path = \"C:\\\\Researches\\\\Data\\\\VI3\\\\202107\""
   ]
  },
  {
   "cell_type": "code",
   "execution_count": null,
   "metadata": {},
   "outputs": [],
   "source": [
    "def listFile(fileDir):\n",
    "    list = os.listdir(fileDir)\n",
    "    # list.sort(key=lambda fn: os.path.getmtime(fileDir + fn))\n",
    "    return list\n",
    "\n",
    "\n",
    "def getInfo(filename):\n",
    "    global path\n",
    "    f = h5py.File(path + \"\\\\RIXS\\\\\" + filename, \"r\")\n",
    "\n",
    "    PhotonEnergy = round(\n",
    "        np.mean(f[\"entry\"][\"instrument\"][\"NDAttributes\"][\"PhotonEnergy\"][()]), 3\n",
    "    )\n",
    "    PolarMode = np.mean(f[\"entry\"][\"instrument\"][\"NDAttributes\"][\"PolarMode\"][()])\n",
    "    if PolarMode == 0:\n",
    "        Polarization = \"LH\"\n",
    "    elif PolarMode == 1:\n",
    "        Polarization = \"LV\"\n",
    "    elif PolarMode == 2:\n",
    "        Polarization = \"C+\"\n",
    "    else:\n",
    "        Polarization = \"C-\"\n",
    "\n",
    "    Temp = round(np.mean(f[\"entry\"][\"instrument\"][\"NDAttributes\"][\"SampleTemp\"][()]), 2)\n",
    "\n",
    "    xx = round(np.mean(f[\"entry\"][\"instrument\"][\"NDAttributes\"][\"SampleXs\"][()]), 4)\n",
    "    yy = round(np.mean(f[\"entry\"][\"instrument\"][\"NDAttributes\"][\"SampleYs\"][()]), 4)\n",
    "    zz = round(np.mean(f[\"entry\"][\"instrument\"][\"NDAttributes\"][\"SampleZ\"][()]), 4)\n",
    "    Tht = round(np.mean(f[\"entry\"][\"instrument\"][\"NDAttributes\"][\"SampleTheta\"][()]), 3)\n",
    "    Phi = round(np.mean(f[\"entry\"][\"instrument\"][\"NDAttributes\"][\"SamplePhi\"][()]), 3)\n",
    "    Tilt = round(np.mean(f[\"entry\"][\"instrument\"][\"NDAttributes\"][\"SampleTilt\"][()]), 3)\n",
    "\n",
    "    AcqTime = np.mean(f[\"entry\"][\"instrument\"][\"NDAttributes\"][\"AcquireTime\"][()])\n",
    "    SplitTime = np.mean(f[\"entry\"][\"instrument\"][\"NDAttributes\"][\"ExposureSplit\"][()])\n",
    "    ExitSlit = np.mean(f[\"entry\"][\"instrument\"][\"NDAttributes\"][\"ExitSlit\"][()])\n",
    "    Ring = round(\n",
    "        np.mean(f[\"entry\"][\"instrument\"][\"NDAttributes\"][\"BeamCurrent\"][()]), 0\n",
    "    )\n",
    "    fileInfo = [\n",
    "        filename[:-6],\n",
    "        PhotonEnergy,\n",
    "        Polarization,\n",
    "        Temp,\n",
    "        xx,\n",
    "        yy,\n",
    "        zz,\n",
    "        Tht,\n",
    "        Phi,\n",
    "        Tilt,\n",
    "        AcqTime,\n",
    "        SplitTime,\n",
    "        ExitSlit,\n",
    "        Ring,\n",
    "    ]\n",
    "    return fileInfo"
   ]
  },
  {
   "cell_type": "code",
   "execution_count": null,
   "metadata": {},
   "outputs": [],
   "source": [
    "f = open(path + \"\\\\logbook.csv\", \"w\", newline=\"\")\n",
    "writer = csv.writer(f)\n",
    "fileList = listFile(path + \"\\\\RIXS\\\\\")\n",
    "writer.writerow(\n",
    "    [\n",
    "        \"Files\",\n",
    "        \"PhotonEnergy(eV)\",\n",
    "        \"Polarization\",\n",
    "        \"Temperature(K)\",\n",
    "        \"SampleX(mm)\",\n",
    "        \"SampleY(mm)\",\n",
    "        \"SampleZ(mm)\",\n",
    "        \"Theta\",\n",
    "        \"Phi\",\n",
    "        \"Tilt\",\n",
    "        \"AcqTime(s)\",\n",
    "        \"SplitTime(s)\",\n",
    "        \"Slit(um)\",\n",
    "        \"RingCurrent\",\n",
    "    ]\n",
    ")\n",
    "\n",
    "for x in fileList[::3]:\n",
    "    writer.writerow(getInfo(x))"
   ]
  }
 ],
 "metadata": {
  "language_info": {
   "name": "python"
  },
  "orig_nbformat": 4
 },
 "nbformat": 4,
 "nbformat_minor": 2
}
