{
 "cells": [
  {
   "cell_type": "code",
   "execution_count": 4,
   "metadata": {},
   "outputs": [],
   "source": [
    "# %matplotlib nbagg\n",
    "# import os\n",
    "import h5py\n",
    "import numpy as np\n",
    "# import matplotlib.pyplot as plt\n",
    "from scipy.signal import find_peaks\n",
    "# from scipy.optimize import curve_fit\n",
    "\n",
    "inputFilePath = 'X:\\\\RIXS\\\\Ruiz_e18603\\\\RIXS\\\\'\n",
    "outputFilePath = 'X:\\\\RIXS\\\\Ruiz_e18603\\\\ASC\\\\'\n",
    "\n",
    "base = 'Cu'\n",
    "energyTrans = 0.008128 #eV/subpixel\n",
    "\n",
    "scans = np.arange(117,280+1)"
   ]
  },
  {
   "cell_type": "code",
   "execution_count": 5,
   "metadata": {},
   "outputs": [],
   "source": [
    "#os.chdir(outputFilePath)\n",
    "\n",
    "def getdata(scannumber):\n",
    "    global inputFilePath\n",
    "    global outputFilePath\n",
    "    global base\n",
    "    \n",
    "    if scannumber < 10:\n",
    "        filename = base+\"_\"+\"000\"+str(scannumber)\n",
    "    elif scannumber < 100:\n",
    "        filename = base+\"_\"+\"00\"+str(scannumber)\n",
    "    elif scannumber < 1000:    \n",
    "        filename = base+\"_\"+\"0\"+str(scannumber)\n",
    "    else:    \n",
    "        filename = base+\"_\"+str(scannumber)\n",
    "\n",
    "    f1 = h5py.File(inputFilePath+filename+\"_d1.h5\", 'r')\n",
    "    f2 = h5py.File(inputFilePath+filename+\"_d2.h5\", 'r')\n",
    "    f3 = h5py.File(inputFilePath+filename+\"_d3.h5\", 'r')\n",
    "\n",
    "    ccd1 = f1['entry']['analysis']['spectrum'][()]\n",
    "    ccd2 = f2['entry']['analysis']['spectrum'][()]\n",
    "    ccd3 = f3['entry']['analysis']['spectrum'][()]\n",
    "       \n",
    "    [xdata,data1] = elasticShift(ccd1)\n",
    "    [_,data2] = elasticShift(ccd2)\n",
    "    [_,data3] = elasticShift(ccd3)\n",
    "    \n",
    "    np.savetxt(outputFilePath+filename+'_d1.dat' , np.transpose([xdata , data1]) , delimiter=\", \",\n",
    "              newline=\"\\n\" , comments=\"# \" , header=\"ELoss, ccd1\"\n",
    "              )\n",
    "    np.savetxt(outputFilePath+filename+'_d2.dat' , np.transpose([xdata , data2]) , delimiter=\", \",\n",
    "              newline=\"\\n\" , comments=\"# \" , header=\"ELoss, ccd2\"\n",
    "              )\n",
    "    np.savetxt(outputFilePath+filename+'_d3.dat' , np.transpose([xdata , data3]) , delimiter=\", \",\n",
    "              newline=\"\\n\" , comments=\"# \" , header=\"ELoss, ccd3\"\n",
    "              )\n",
    "\n",
    "def elasticShift(pixelData):\n",
    "\n",
    "    global energyTrans\n",
    "\n",
    "    peaks, _ = find_peaks(pixelData,height=20,width=5)\n",
    "    xdataPixel = np.arange(len(pixelData))\n",
    "    \n",
    "    xdataPixel = xdataPixel[(peaks[-1]-2000):(peaks[-1]+200)]\n",
    "    energyData = pixelData[(peaks[-1]-2000):(peaks[-1]+200)]\n",
    "    \n",
    "    xDataEnergy = (xdataPixel - peaks[-1]) * energyTrans * -1\n",
    "\n",
    "    return [xDataEnergy,energyData]\n"
   ]
  },
  {
   "cell_type": "code",
   "execution_count": 6,
   "metadata": {},
   "outputs": [],
   "source": [
    "for i,s in enumerate(scans):\n",
    "        getdata(s)"
   ]
  }
 ],
 "metadata": {
  "kernelspec": {
   "display_name": "Python 3",
   "language": "python",
   "name": "python3"
  },
  "language_info": {
   "codemirror_mode": {
    "name": "ipython",
    "version": 3
   },
   "file_extension": ".py",
   "mimetype": "text/x-python",
   "name": "python",
   "nbconvert_exporter": "python",
   "pygments_lexer": "ipython3",
   "version": "3.6.4"
  }
 },
 "nbformat": 4,
 "nbformat_minor": 2
}
