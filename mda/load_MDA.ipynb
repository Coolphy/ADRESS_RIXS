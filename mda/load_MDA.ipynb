{
 "cells": [
  {
   "cell_type": "code",
   "execution_count": 2,
   "metadata": {},
   "outputs": [],
   "source": [
    "from mda import *\n",
    "import numpy as np"
   ]
  },
  {
   "cell_type": "code",
   "execution_count": 3,
   "metadata": {},
   "outputs": [],
   "source": [
    "class load_mda:\n",
    "    def __init__(self):\n",
    "\n",
    "        self.data = {}\n",
    "        self.head = {}\n",
    "\n",
    "    def load(self, fileName):\n",
    "\n",
    "        d = readMDA(fileName, useNumpy=True)\n",
    "\n",
    "        dim = len(d) - 1\n",
    "        self.data[\"dimension\"] = dim\n",
    "        self.data[\"positioners\"] = {}\n",
    "        self.data[\"detectors\"] = {}\n",
    "\n",
    "        self.data[\"shape\"] = np.shape(d[dim].p[0].data)\n",
    "\n",
    "        for p_n in range(dim):\n",
    "            self.data[\"positioners\"][p_n] = {}\n",
    "            self.data[\"positioners\"][p_n][\n",
    "                \"name\"\n",
    "            ] = f\"{d[p_n+1].p[0].name.decode('utf-8')}\"\n",
    "            self.data[\"positioners\"][p_n][\"data\"] = d[p_n + 1].p[0].data\n",
    "\n",
    "        for d_n in range(len(d[dim].d)):\n",
    "            self.data[\"detectors\"][d_n] = {}\n",
    "            self.data[\"detectors\"][d_n][\n",
    "                \"name\"\n",
    "            ] = f\"{d[dim].d[d_n].name.decode('utf-8')}\"\n",
    "            self.data[\"detectors\"][d_n][\"data\"] = d[dim].d[d_n].data\n",
    "\n",
    "    def reform(self):\n",
    "        for low_dim_total in range(len(self.data[\"positioners\"])):\n",
    "            for low_dim in range(low_dim_total):\n",
    "                self.data[\"positioners\"][low_dim][\"data\"] = np.transpose(\n",
    "                    np.tile(\n",
    "                        self.data[\"positioners\"][low_dim][\"data\"],\n",
    "                        (self.data[\"shape\"][low_dim + 1], 1),\n",
    "                    )\n",
    "                )\n",
    "\n",
    "    def save(self, fileName):\n",
    "        for p in self.data[\"positioners\"]:\n",
    "            numpy.savetxt(\n",
    "                f\"{fileName}_P{p}.txt\",\n",
    "                self.data[\"positioners\"][p][\"data\"],\n",
    "                fmt=\"%.18e\",\n",
    "                delimiter=\",\\t\",\n",
    "                newline=\"\\n\",\n",
    "                header=self.data[\"positioners\"][p][\"name\"],\n",
    "                footer=\"\",\n",
    "                comments=\"# \",\n",
    "                encoding=None,\n",
    "            )\n",
    "        for d in self.data[\"detectors\"]:\n",
    "            numpy.savetxt(\n",
    "                f\"{fileName}_D{d}.txt\",\n",
    "                self.data[\"detectors\"][d][\"data\"],\n",
    "                fmt=\"%.18e\",\n",
    "                delimiter=\",\\t\",\n",
    "                newline=\"\\n\",\n",
    "                header=self.data[\"detectors\"][d][\"name\"],\n",
    "                footer=\"\",\n",
    "                comments=\"# \",\n",
    "                encoding=None,\n",
    "            )\n"
   ]
  },
  {
   "cell_type": "code",
   "execution_count": 4,
   "metadata": {},
   "outputs": [],
   "source": [
    "def make_name(filePath, run):\n",
    "    fileName = f\"{filePath}/X03MA_PC_{run:04d}\"\n",
    "    return fileName\n"
   ]
  },
  {
   "cell_type": "code",
   "execution_count": 6,
   "metadata": {},
   "outputs": [],
   "source": [
    "runNo = 7\n",
    "\n",
    "filePath = \"C:/Researches/Data/MPS3/FePS3_Feb_2023/MDA/\"\n",
    "fileName = make_name(filePath,runNo)\n",
    "\n",
    "s = load_mda()\n",
    "s.load(f\"{fileName}.mda\")\n",
    "s.reform()\n",
    "s.save(fileName)"
   ]
  },
  {
   "cell_type": "code",
   "execution_count": null,
   "metadata": {},
   "outputs": [],
   "source": []
  }
 ],
 "metadata": {
  "kernelspec": {
   "display_name": "Python 3",
   "language": "python",
   "name": "python3"
  },
  "language_info": {
   "codemirror_mode": {
    "name": "ipython",
    "version": 3
   },
   "file_extension": ".py",
   "mimetype": "text/x-python",
   "name": "python",
   "nbconvert_exporter": "python",
   "pygments_lexer": "ipython3",
   "version": "3.9.5"
  },
  "orig_nbformat": 4,
  "vscode": {
   "interpreter": {
    "hash": "11938c6bc6919ae2720b4d5011047913343b08a43b18698fd82dedb0d4417594"
   }
  }
 },
 "nbformat": 4,
 "nbformat_minor": 2
}
